{
  "nbformat": 4,
  "nbformat_minor": 0,
  "metadata": {
    "colab": {
      "private_outputs": true,
      "provenance": [],
      "authorship_tag": "ABX9TyNV18FdKLDh1jNQS2yCVw4q",
      "include_colab_link": true
    },
    "kernelspec": {
      "name": "python3",
      "display_name": "Python 3"
    },
    "language_info": {
      "name": "python"
    }
  },
  "cells": [
    {
      "cell_type": "markdown",
      "metadata": {
        "id": "view-in-github",
        "colab_type": "text"
      },
      "source": [
        "<a href=\"https://colab.research.google.com/github/Midmost/AI/blob/master/EDA_gu_0419.ipynb\" target=\"_parent\"><img src=\"https://colab.research.google.com/assets/colab-badge.svg\" alt=\"Open In Colab\"/></a>"
      ]
    },
    {
      "cell_type": "markdown",
      "source": [
        "# Dependencies"
      ],
      "metadata": {
        "id": "O9SjxY_yObm2"
      }
    },
    {
      "cell_type": "code",
      "execution_count": null,
      "metadata": {
        "id": "bZQi-h5Q7xXA"
      },
      "outputs": [],
      "source": [
        "from google.colab import drive\n",
        "drive.mount('/content/drive')\n",
        "\n",
        "!pip install --upgrade pandas"
      ]
    },
    {
      "cell_type": "markdown",
      "source": [
        "## Basic information"
      ],
      "metadata": {
        "id": "sqFOB-F3Okjy"
      }
    },
    {
      "cell_type": "code",
      "source": [
        "import pandas as pd\n",
        "import numpy as np\n",
        "from pandas.io.formats.info import DataFrameInfo\n",
        "\n",
        "\n",
        "# excel path\n",
        "xlsx_file_path = \"/content/drive/MyDrive/DATA/pdf2xlsx/editXL/X_금천구_예산서.xlsx\"\n",
        "\n",
        "# pure excel to pure dataframe and information with a visual-table\n",
        "df = pd.read_excel(xlsx_file_path)\n",
        "DataFrameInfo\n",
        "df"
      ],
      "metadata": {
        "id": "70UL7ZPjgpE_"
      },
      "execution_count": null,
      "outputs": []
    },
    {
      "cell_type": "code",
      "source": [
        "# drop the 0,1,2 rows because of starting page\n",
        "df = pd.read_excel(xlsx_file_path, header = None)"
      ],
      "metadata": {
        "id": "GZNGIG9_Eau4"
      },
      "execution_count": null,
      "outputs": []
    },
    {
      "cell_type": "markdown",
      "source": [
        "## Pre-processing"
      ],
      "metadata": {
        "id": "ehd9nfoCTuh_"
      }
    },
    {
      "cell_type": "code",
      "source": [
        "# Add a new column to the first index of the dataframe\n",
        "my_bytes = b'\\xea\\xb8\\x88\\xec\\xb2\\x9c\\xea\\xb5\\xac' # TODO: 매번 bytes로 디코드를 해줘야 하나...?\n",
        "my_gu = my_bytes.decode('utf-8')\n",
        "\n",
        "df.insert(0, 'gov', my_gu)"
      ],
      "metadata": {
        "id": "DMLlGP4BGOAJ"
      },
      "execution_count": null,
      "outputs": []
    },
    {
      "cell_type": "code",
      "source": [
        "df"
      ],
      "metadata": {
        "id": "9pWiikHvE2M5"
      },
      "execution_count": null,
      "outputs": []
    },
    {
      "cell_type": "code",
      "source": [
        "# Find the index of the 'Unnamed: 5' column\n",
        "index = df.columns.get_loc(5)\n",
        "\n",
        "# Insert a new column after it\n",
        "df.insert(index + 1, 'new_column', '')"
      ],
      "metadata": {
        "id": "zHzE1vreLdVn"
      },
      "execution_count": null,
      "outputs": []
    },
    {
      "cell_type": "code",
      "source": [
        "header_all = \"gov,dept,policy,danwi,task,acct1,acct2,bizdetail,bizdetailadd,detailamt,budget22,budget21,budgetdiff\"\n",
        "header = header_all.split(\",\")\n",
        "df.columns = header"
      ],
      "metadata": {
        "id": "lfH-oC6WEv_t"
      },
      "execution_count": null,
      "outputs": []
    },
    {
      "cell_type": "code",
      "source": [
        "df"
      ],
      "metadata": {
        "id": "SpMyFoD9QLsa"
      },
      "execution_count": null,
      "outputs": []
    },
    {
      "cell_type": "markdown",
      "source": [
        "### change the values of df"
      ],
      "metadata": {
        "id": "SqImOPMGVa5B"
      }
    },
    {
      "cell_type": "code",
      "source": [
        "# set the columns values of cells\n",
        "columns_to_fill =\"gov,dept,policy,danwi,task,acct1,acct2,bizdetail\".split(\",\") # '부서', '정책', '단위', '세부사업', '편성목', '편성운영비'\n",
        "# columns_to_fill = header[:5]\n",
        "\n",
        "for col in columns_to_fill:\n",
        "    df[col] = df[col].fillna(method='ffill')\n"
      ],
      "metadata": {
        "id": "jZ1LfgmcLyS-"
      },
      "execution_count": null,
      "outputs": []
    },
    {
      "cell_type": "code",
      "source": [
        "df['bizdetailadd'] = df['bizdetailadd'].astype(str).replace('nan', '')\n",
        "df['detailamt'] = df['detailamt'].astype(str).replace('nan', '')\n",
        "df['bizdetail'] = df['bizdetailadd'] + df['detailamt']"
      ],
      "metadata": {
        "id": "ZR6_QbrXOniR"
      },
      "execution_count": null,
      "outputs": []
    },
    {
      "cell_type": "code",
      "source": [
        "# df.drop([0,1])"
      ],
      "metadata": {
        "id": "-IIYof73AIxT"
      },
      "execution_count": null,
      "outputs": []
    },
    {
      "cell_type": "code",
      "source": [
        "#if df['bizdetailadd'] startwith('1)') then delete the cell's content\n",
        "\n",
        "# Create a boolean mask where True indicates that the cell value starts with '1)'\n",
        "mask = df['bizdetailadd'].str.startswith('1)')\n",
        "\n",
        "# Set the values of the selected cells to an empty string\n",
        "df.loc[mask, 'bizdetailadd'] = ''"
      ],
      "metadata": {
        "id": "vGn4-SKbA0L6"
      },
      "execution_count": null,
      "outputs": []
    },
    {
      "cell_type": "code",
      "source": [
        "#slice start from indext 6\n",
        "df = df[6:]"
      ],
      "metadata": {
        "id": "YdW3oJJBwP4B"
      },
      "execution_count": null,
      "outputs": []
    },
    {
      "cell_type": "code",
      "source": [
        "df = df.reset_index(drop=True)\n",
        "df"
      ],
      "metadata": {
        "id": "7NyGwwUzXXas"
      },
      "execution_count": null,
      "outputs": []
    }
  ]
}