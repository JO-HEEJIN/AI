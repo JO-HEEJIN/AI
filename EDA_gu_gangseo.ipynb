{
  "nbformat": 4,
  "nbformat_minor": 0,
  "metadata": {
    "colab": {
      "private_outputs": true,
      "provenance": [],
      "authorship_tag": "ABX9TyMqTouJnwYMmSEW67sF82a/",
      "include_colab_link": true
    },
    "kernelspec": {
      "name": "python3",
      "display_name": "Python 3"
    },
    "language_info": {
      "name": "python"
    }
  },
  "cells": [
    {
      "cell_type": "markdown",
      "metadata": {
        "id": "view-in-github",
        "colab_type": "text"
      },
      "source": [
        "<a href=\"https://colab.research.google.com/github/Midmost/AI/blob/master/EDA_gu_gangseo.ipynb\" target=\"_parent\"><img src=\"https://colab.research.google.com/assets/colab-badge.svg\" alt=\"Open In Colab\"/></a>"
      ]
    },
    {
      "cell_type": "markdown",
      "source": [
        "# Dependencies"
      ],
      "metadata": {
        "id": "O9SjxY_yObm2"
      }
    },
    {
      "cell_type": "code",
      "execution_count": null,
      "metadata": {
        "id": "bZQi-h5Q7xXA"
      },
      "outputs": [],
      "source": [
        "from google.colab import drive\n",
        "drive.mount('/content/drive')\n",
        "\n",
        "!pip install --upgrade pandas"
      ]
    },
    {
      "cell_type": "markdown",
      "source": [
        "## Basic information"
      ],
      "metadata": {
        "id": "sqFOB-F3Okjy"
      }
    },
    {
      "cell_type": "code",
      "source": [
        "import pandas as pd\n",
        "import numpy as np\n",
        "from pandas.io.formats.info import DataFrameInfo\n",
        "\n",
        "\n",
        "# excel path\n",
        "xlsx_file_path = \"/content/drive/MyDrive/DATA/pdf2xlsx/editXL/gangseo.xlsx\"\n",
        "\n",
        "# pure excel to pure dataframe and information with a visual-table\n",
        "df = pd.read_excel(xlsx_file_path)\n",
        "DataFrameInfo\n",
        "df"
      ],
      "metadata": {
        "id": "70UL7ZPjgpE_"
      },
      "execution_count": null,
      "outputs": []
    },
    {
      "cell_type": "markdown",
      "source": [
        "* ***하지만 만약 xlsx 파일 혹은 pdf 파일을 확인하고 내용이 다르다면 그에 맞춰 header를 수정해야 할 수 있음*** \n",
        "\n",
        "* 헤더의 명칭은 각 구의 계층구조에 정확히 맞춰서 수정하였었으나 원래 주셨던 대로 열 수를 맞춤"
      ],
      "metadata": {
        "id": "RbvsIO6EPiNh"
      }
    },
    {
      "cell_type": "code",
      "source": [
        "!pip install --upgrade pandas"
      ],
      "metadata": {
        "id": "vOw_57GuiL59"
      },
      "execution_count": null,
      "outputs": []
    },
    {
      "cell_type": "code",
      "source": [
        "xlsx_file_path = \"/content/drive/MyDrive/DATA/pdf2xlsx/editXL/gangseo.xlsx\"\n",
        "\n",
        "import pandas as pd\n",
        "import numpy as np\n",
        "\n",
        "# df 내용 이쁘게 확인하기\n",
        "from pandas.io.formats.info import DataFrameInfo\n",
        "df = pd.read_excel(xlsx_file_path)\n",
        "DataFrameInfo\n",
        "\n",
        "\n",
        "df = pd.read_excel(xlsx_file_path, header = 3)\n",
        "\n",
        "# Add a new column to the first index of the dataframe\n",
        "df.insert(0, '구', '강서구')\n",
        "header_all = \"구,부서,정책,단위,세부사업,편성목,편성운영비,편성세부운영비,편성세부내역비용,예산액,전년도예산액,비교증감\"\n",
        "header = header_all.split(\",\")\n",
        "df.columns = header\n",
        "\n",
        "columns_to_fill = ['부서', '정책', '단위', '세부사업', '편성목', '편성운영비']\n",
        "# columns_to_fill = header[:5]\n",
        "for col in columns_to_fill:\n",
        "    df[col] = df[col].fillna(method='ffill')"
      ],
      "metadata": {
        "id": "jZ1LfgmcLyS-"
      },
      "execution_count": null,
      "outputs": []
    },
    {
      "cell_type": "code",
      "source": [
        "# 그냥 원래 예시2에 맞춘거...\n",
        "df['편성세부운영비'] = df['편성세부운영비'].astype(str).replace('nan', '')\n",
        "df['편성세부내역비용'] = df['편성세부내역비용'].astype(str).replace('nan', '')\n",
        "df['편성세부운영비'] = df['편성세부운영비'] + df['편성세부내역비용']\n",
        "df['편성세부운영비']\n",
        "df = df.drop(columns=['편성세부내역비용'])\n"
      ],
      "metadata": {
        "id": "-IIYof73AIxT"
      },
      "execution_count": null,
      "outputs": []
    },
    {
      "cell_type": "code",
      "source": [
        "df"
      ],
      "metadata": {
        "id": "vGn4-SKbA0L6"
      },
      "execution_count": null,
      "outputs": []
    },
    {
      "cell_type": "markdown",
      "source": [
        "1. If a row with index i has a value in the “편성세부운영비” column that starts with “1)” and the next row starts with “2)”, do not merge the rows.\n",
        "\n",
        "\n",
        "2. If a row with index i has a value in the “편성세부운영비” column that starts with “2)” and the next row starts with “3)”, do not merge the rows.\n",
        "\n",
        "\n",
        "3. Otherwise, merge row i with row i+1.\n",
        "\n",
        "\n",
        "4. When merging two rows, do not allow duplicate values.\n",
        "---\n",
        "1. i라는 인덱스를 가진 row이면서 열이 \"편성세부운영비\" 인 경우이면서 \"1)\"로 시작 할 때 아래 행이 \"2)\"로 시작하면 pass\n",
        "2. i라는 인덱스를 row이면서 열이 \"편성세부운영비\"인 경우이면서 \"2)\"로 시작 할 때 아래 행이 \"3)\"이면 pass\n",
        "3. 아니라면 i 라는 인덱스를 가진 row는 i+1 인덱스를 가진 row와 병합을 한다. \n",
        "4.  이 때 합치려는 두 셀의 값이 같은 경우에는 중복은 허용하지 않는다.   \n"
      ],
      "metadata": {
        "id": "3vF0iIDVZLk1"
      }
    },
    {
      "cell_type": "code",
      "source": [
        "\n",
        "# Extract rows where the value in the 'A' column starts with '1)' and the value in the next row starts with '2)'\n",
        "# mask = ((df['편성세부운영비'].str.startswith('1)')) & (df['편성세부운영비'].shift(1).str.startswith('2)'))) | ((df['편성세부운영비'].str.startswith('2)')) & (df['편성세부운영비'].shift(1).str.startswith('3)'))) | (((df['편성세부운영비'].str.startswith('1)')) & (df['편성세부운영비'].shift(1).str.startswith(''))))\n",
        "# same with this\n",
        "# Create a boolean mask\n",
        "mask = (\n",
        "    # Select rows where the value in the '편성세부운영비' column starts with '1)' and the value in the previous row starts with '2)'\n",
        "    ((df['편성세부운영비'].str.startswith('1)')) & (df['편성세부운영비'].shift(1).str.startswith('2)'))) |\n",
        "    # Select rows where the value in the '편성세부운영비' column starts with '2)' and the value in the previous row starts with '3)'\n",
        "    ((df['편성세부운영비'].str.startswith('2)')) & (df['편성세부운영비'].shift(1).str.startswith('3)'))) |\n",
        "    # Select rows where the value in the '편성세부운영비' column starts with '1)' and the value in the previous row is an empty string\n",
        "    ((df['편성세부운영비'].str.startswith('1)')) & (df['편성세부운영비'].shift(1).str.startswith('')))\n",
        ")\n",
        "\n",
        "\n",
        "\n",
        "\n",
        "# Invert the boolean values in the mask\n",
        "inverse_mask = ~mask\n",
        "\n",
        "\n",
        "\n",
        "df['mask'] = df['편성세부운영비'].shift(1)\n",
        "\n",
        "df['mask'] = mask\n",
        "\n",
        "# Iterate over the rows of the DataFrame\n",
        "for i in range(len(df)-1):\n",
        "    # Check if the value in the current row of the 'mask' column is True\n",
        "    if df.at[i, 'mask']:\n",
        "        # Combine the values in the current and next rows of the '편성세부운영비' column\n",
        "        combined_value = df.at[i, '편성세부운영비'] + ' ' + df.at[i+1, '편성세부운영비']\n",
        "        # Assign the combined value to the current row of the 'combined' column\n",
        "        df.at[i, 'combined'] = combined_value\n"
      ],
      "metadata": {
        "id": "OZ0VWypB-hNl"
      },
      "execution_count": null,
      "outputs": []
    },
    {
      "cell_type": "code",
      "source": [
        "# Check the number of rows in the DataFrame\n",
        "num_rows = df.shape[0]\n",
        "print(f'The DataFrame has {num_rows} rows.')"
      ],
      "metadata": {
        "id": "kiZ09EWyNkOl"
      },
      "execution_count": null,
      "outputs": []
    },
    {
      "cell_type": "code",
      "source": [
        "df"
      ],
      "metadata": {
        "id": "qxM45hFeITYL"
      },
      "execution_count": null,
      "outputs": []
    },
    {
      "cell_type": "code",
      "source": [
        "\n",
        "# Define a function to check if a row should be merged with the next row\n",
        "def should_merge():\n",
        "    if df['편성세부운영비'].startswith('1)') and df['편성세부운영비'].startswith('2)'):\n",
        "        return False\n",
        "    elif df['편성세부운영비'].startswith('2)') and df['편성세부운영비'].startswith('3)'):\n",
        "        return False\n",
        "    else:\n",
        "        return True\n",
        "\n",
        "# Create a new column that contains the value of the \"편성세부운영비\" column from the next row\n",
        "df['next'] = df['편성세부운영비'].shift(-1)\n",
        "\n",
        "# Apply the should_merge function to each row of the DataFrame\n",
        "df['merge'] = df.apply(should_merge, axis=1)\n",
        "\n",
        "# Merge rows based on the value of the \"merge\" column\n",
        "result = []\n",
        "for i, row in df.iterrows():\n",
        "    if row['merge']:\n",
        "        result.append(row['편성세부운영비'] + ' ' + row['next'])\n",
        "    else:\n",
        "        result.append(row['편성세부운영비'])\n",
        "\n",
        "# Create a new DataFrame from the result\n",
        "result = pd.DataFrame({'merged': result})\n",
        "\n",
        "# Display the resulting DataFrame\n",
        "print(result)"
      ],
      "metadata": {
        "id": "RXzB_ZpATTUz"
      },
      "execution_count": null,
      "outputs": []
    },
    {
      "cell_type": "code",
      "source": [],
      "metadata": {
        "id": "bKB7SVGegdkH"
      },
      "execution_count": null,
      "outputs": []
    },
    {
      "cell_type": "code",
      "source": [
        "df.iloc[15404]"
      ],
      "metadata": {
        "id": "YdW3oJJBwP4B"
      },
      "execution_count": null,
      "outputs": []
    },
    {
      "cell_type": "code",
      "source": [
        "# Export the DataFrame to an Excel file\n",
        "df.to_excel('output3.xlsx', index=False)"
      ],
      "metadata": {
        "id": "EAZdV5R36QpA"
      },
      "execution_count": null,
      "outputs": []
    }
  ]
}