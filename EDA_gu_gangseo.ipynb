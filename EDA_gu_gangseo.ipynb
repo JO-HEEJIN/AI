{
  "nbformat": 4,
  "nbformat_minor": 0,
  "metadata": {
    "colab": {
      "private_outputs": true,
      "provenance": [],
      "authorship_tag": "ABX9TyM38o47qiJ2ejZGO5QlxnA8",
      "include_colab_link": true
    },
    "kernelspec": {
      "name": "python3",
      "display_name": "Python 3"
    },
    "language_info": {
      "name": "python"
    }
  },
  "cells": [
    {
      "cell_type": "markdown",
      "metadata": {
        "id": "view-in-github",
        "colab_type": "text"
      },
      "source": [
        "<a href=\"https://colab.research.google.com/github/Midmost/AI/blob/master/EDA_gu_gangseo.ipynb\" target=\"_parent\"><img src=\"https://colab.research.google.com/assets/colab-badge.svg\" alt=\"Open In Colab\"/></a>"
      ]
    },
    {
      "cell_type": "markdown",
      "source": [
        "# Dependencies"
      ],
      "metadata": {
        "id": "O9SjxY_yObm2"
      }
    },
    {
      "cell_type": "code",
      "execution_count": null,
      "metadata": {
        "id": "bZQi-h5Q7xXA"
      },
      "outputs": [],
      "source": [
        "from google.colab import drive\n",
        "drive.mount('/content/drive')\n",
        "\n",
        "!pip install --upgrade pandas"
      ]
    },
    {
      "cell_type": "markdown",
      "source": [
        "## Basic information"
      ],
      "metadata": {
        "id": "sqFOB-F3Okjy"
      }
    },
    {
      "cell_type": "code",
      "source": [
        "import pandas as pd\n",
        "import numpy as np\n",
        "from pandas.io.formats.info import DataFrameInfo\n",
        "\n",
        "\n",
        "# excel path\n",
        "xlsx_file_path = \"/content/drive/MyDrive/DATA/pdf2xlsx/editXL/gangseo.xlsx\"\n",
        "\n",
        "# pure excel to pure dataframe and information with a visual-table\n",
        "df = pd.read_excel(xlsx_file_path)\n",
        "DataFrameInfo\n",
        "df"
      ],
      "metadata": {
        "id": "70UL7ZPjgpE_"
      },
      "execution_count": null,
      "outputs": []
    },
    {
      "cell_type": "code",
      "source": [
        "# drop the 0,1,2 rows because of starting page\n",
        "df = pd.read_excel(xlsx_file_path, header = 3)\n",
        "\n",
        "# Add a new column to the first index of the dataframe\n",
        "df.insert(0, '구', '강서구')\n",
        "header_all = \"구,부서,정책,단위,세부사업,편성목,편성운영비,편성세부운영비,편성세부내역비용,예산액,전년도예산액,비교증감\"\n",
        "header = header_all.split(\",\")\n",
        "df.columns = header"
      ],
      "metadata": {
        "id": "DMLlGP4BGOAJ"
      },
      "execution_count": null,
      "outputs": []
    },
    {
      "cell_type": "markdown",
      "source": [
        "* ***하지만 만약 xlsx 파일 혹은 pdf 파일을 확인하고 내용이 다르다면 그에 맞춰 header를 수정해야 할 수 있음*** \n",
        "\n",
        "* 헤더의 명칭은 각 구의 계층구조에 정확히 맞춰서 수정하였음. "
      ],
      "metadata": {
        "id": "RbvsIO6EPiNh"
      }
    },
    {
      "cell_type": "code",
      "source": [
        "df"
      ],
      "metadata": {
        "id": "SpMyFoD9QLsa"
      },
      "execution_count": null,
      "outputs": []
    },
    {
      "cell_type": "code",
      "source": [
        "!pip install --upgrade pandas"
      ],
      "metadata": {
        "id": "vOw_57GuiL59"
      },
      "execution_count": null,
      "outputs": []
    },
    {
      "cell_type": "code",
      "source": [
        "xlsx_file_path = \"/content/drive/MyDrive/DATA/pdf2xlsx/editXL/gangseo.xlsx\"\n",
        "\n",
        "import pandas as pd\n",
        "import numpy as np\n",
        "\n",
        "from pandas.io.formats.info import DataFrameInfo\n",
        "df = pd.read_excel(xlsx_file_path)\n",
        "DataFrameInfo\n",
        "df\n",
        "\n",
        "\n",
        "df = pd.read_excel(xlsx_file_path, header = 3)\n",
        "\n",
        "# Add a new column to the first index of the dataframe\n",
        "df.insert(0, '구', '강서구')\n",
        "header_all = \"구,부서,정책,단위,세부사업,편성목,편성운영비,편성세부운영비,편성세부내역비용,예산액,전년도예산액,비교증감\"\n",
        "header = header_all.split(\",\")\n",
        "df.columns = header\n",
        "\n",
        "# # Forward fill missing values in column 'A'\n",
        "# df['부서'] = df['부서'].fillna(method='ffill')\n",
        "# df['정책'] = df['정책'].fillna(method='ffill')\n",
        "# df['단위'] = df['단위'].fillna(method='ffill')\n",
        "# df['세부사업'] = df['세부사업'].fillna(method='ffill')\n",
        "# df['편성목'] = df['편성목'].fillna(method='ffill')\n",
        "# df['편성운영비'] = df['편성운영비'].fillna(method='ffill')\n",
        "columns_to_fill = ['부서', '정책', '단위', '세부사업', '편성목', '편성운영비']\n",
        "# columns_to_fill = header[:5]\n",
        "for col in columns_to_fill:\n",
        "    df[col] = df[col].fillna(method='ffill')\n",
        "\n",
        "\n",
        "\n",
        "# 1.만약 \"편성세부운영비\" header를 가지는 column에서 1로시작하는 cell을 찾기.\n",
        "# 2. 1로 시작하는 셀을 찾았으면 그 셀의 +1 되는 row가 만약 ) 로 끝나는 지 확인.\n",
        "# 3. 이 두 조건을 충족한다면 1로 시작하는 행을 바로 아래있는 행과 병합하기\n",
        "\n",
        "# # Create a mask to find rows where the value in the '편성세부운영비' column starts with '1'\n",
        "# mask = df['편성세부운영비'].str.startswith('1)')\n",
        "\n",
        "# # Shift the mask one row down and fill the first row with False\n",
        "# mask = mask.shift(fill_value=False)\n",
        "\n",
        "# # Update the mask to find rows where the value in the '편성세부운영비' column ends with ')'\n",
        "# mask = mask & df['편성세부운영비'].str.endswith('%)')\n",
        "\n",
        "# # Shift the mask one row up\n",
        "# mask = mask.shift()\n",
        "\n",
        "# mask = mask.fillna(False)\n",
        "\n",
        "# # Drop rows where mask is True\n",
        "# df = df[~mask]\n",
        "\n",
        "\n",
        "# # Convert the '편성세부운영비' column to a string\n",
        "# df['편성세부운영비'] = df['편성세부운영비'].astype(str)\n",
        "\n",
        "# def merge_cells(row):\n",
        "#     if row['편성세부운영비'].startswith('1') and row['편성세부운영비_shifted'].endswith(')'):\n",
        "#         return row['편성세부운영비'] + row['편성세부운영비_shifted']\n",
        "#     else:\n",
        "#         return row['편성세부운영비']\n",
        "\n",
        "# # Shift the '편성세부운영비' column one row down\n",
        "# df['편성세부운영비_shifted'] = df['편성세부운영비'].shift()\n",
        "\n",
        "# # Apply the custom function to each row of the DataFrame\n",
        "# df['편성세부운영비'] = df.apply(merge_cells, axis=1)\n",
        "\n",
        "# # Drop the '편성세부운영비_shifted' column\n",
        "# df = df.drop('편성세부운영비_shifted', axis=1)\n",
        "\n",
        "# df['편성세부운영비'] = df['편성세부운영비'].astype(str)\n",
        "# df['편성세부내역비용'] = df['편성세부내역비용'].astype(str)\n",
        "\n",
        "# def merge_rows(row):\n",
        "    \n",
        "#     if row['편성세부운영비'].startswith('1') and row['편성세부운영비_shifted'].endswith(')'):\n",
        "#         return row['편성세부운영비'] + row['편성세부운영비_shifted']\n",
        "#     else:\n",
        "#         return row['편성세부운영비']\n",
        "\n",
        "# # Shift the '편성세부운영비' column one row down\n",
        "# df['편성세부운영비_shifted'] = df['편성세부운영비'].shift()\n",
        "\n",
        "# # Apply the custom function to each row of the DataFrame\n",
        "# df['편성세부운영비'] = df.apply(merge_rows, axis=1)\n",
        "\n",
        "# # Drop the '편성세부운영비_shifted' column\n",
        "# df = df.drop('편성세부운영비_shifted', axis=1)\n",
        "\n"
      ],
      "metadata": {
        "id": "jZ1LfgmcLyS-"
      },
      "execution_count": null,
      "outputs": []
    },
    {
      "cell_type": "code",
      "source": [
        "# 그냥 원래 예시2에 맞춘거...\n",
        "df['편성세부운영비'] = df['편성세부운영비'].astype(str).replace('nan', '')\n",
        "df['편성세부내역비용'] = df['편성세부내역비용'].astype(str).replace('nan', '')\n",
        "df['편성세부운영비'] = df['편성세부운영비'] + df['편성세부내역비용']\n",
        "df['편성세부운영비']\n",
        "df.drop(columns=['편성세부내역비용'])\n"
      ],
      "metadata": {
        "id": "-IIYof73AIxT"
      },
      "execution_count": null,
      "outputs": []
    },
    {
      "cell_type": "code",
      "source": [
        "df"
      ],
      "metadata": {
        "id": "vGn4-SKbA0L6"
      },
      "execution_count": null,
      "outputs": []
    },
    {
      "cell_type": "code",
      "source": [
        "df.iloc[15404]"
      ],
      "metadata": {
        "id": "YdW3oJJBwP4B"
      },
      "execution_count": null,
      "outputs": []
    },
    {
      "cell_type": "markdown",
      "source": [
        "규칙1: 숫자로 시작하면서 \"%\"로 끝나거나 \"월\"로 끝나는 경우\n",
        "\n",
        "\n",
        "\n",
        "규칙2: in 예약어를 사용해서\"*\"를 포함하는 경우 해당 셀의 값(\"*\"를 포함하는 그 str)를 temp에 저장해줘 \n",
        "\n",
        "\n",
        "\n",
        "규직2-1: temp의 값을 바로 옆의 셀(\"편성세부내역비용\" 으로 옮겨줘) 그리고 그 값들을 series로 만들어서 프린트해줘\n",
        "\n",
        "\n",
        "\n",
        "규칙3: if some rows of \"편성세부운영비\" column are applicapable using this new function, make a new function name with \"classified\".\n",
        "\n",
        "\n",
        "규칙4:\n",
        "만약 \")\"를 가지고 있고 \" \" 혹은 \"  \"을 가지고 있다면 \" \"를 기준으로 split을 하고 새로 만든 함수인 \"classified\" 함수를 실행해서 규칙1,2,2-1에 해당하는 지 확인하고 그 값을 프린트해줘 \n",
        "\n",
        "\n",
        "규칙5: 단, \"편성세부내역비용\"의 해당 행이 값이 비어있거나 \"nan\" 혹은 \"0\" 혹은 0, 0.0인 경우에만 \n",
        "규칙4를 적용해야해\n",
        "\n",
        "\n",
        "규칙6: 최종 함수를 적용한 df의 값을 보여줘\n"
      ],
      "metadata": {
        "id": "-115OTYDBbm4"
      }
    },
    {
      "cell_type": "markdown",
      "source": [
        "# 편성세부운영비 규칙"
      ],
      "metadata": {
        "id": "ZcFJPYSlNflk"
      }
    },
    {
      "cell_type": "markdown",
      "source": [
        "1. If a cell in the “편성세부운영비” column starts with a number or “(” and ends with “%” or “월” or “일” or “*” or “년” or “회”, print all of these series.\n",
        "\n",
        "\n",
        "\n",
        "2. If a cell in the “편성세부운영비” column contains an asterisk, save its value to a temporary variable.\n",
        "\n",
        "3. Move the value of the temporary variable to the adjacent cell in the “편성세부내역비용” column and print its values as a series.\n",
        "\n",
        "\n",
        "4. If some rows of the “편성세부운영비” column are applicable using this new function, make a new function name with “classified”.\n",
        "\n",
        "\n",
        "5. If a cell in the “편성세부운영비” column contains “)” and either \" \" or \" \", split it based on \" \" and run the newly created function named “classified” to check if it meets conditions 1, 2, and 2-1, then print its value.\n",
        "\n",
        "\n",
        "6. However, only apply rule 4 if the corresponding row in the “편성세부내역비용” column is empty or has a value of “nan”, “0”, 0, or 0.0.\n",
        "\n",
        "\n",
        "7. Show the final value of df after applying the final function."
      ],
      "metadata": {
        "id": "YUJwtrZ-KwCg"
      }
    },
    {
      "cell_type": "code",
      "source": [
        "my_string = \"abc123\"\n",
        "if \"*\" in my_string:\n",
        "    print(f\"{my_string} contains an asterisk\")\n",
        "else:\n",
        "    print(f\"{my_string} does not contain an asterisk\")"
      ],
      "metadata": {
        "id": "dyNHfJO6-N2T"
      },
      "execution_count": null,
      "outputs": []
    },
    {
      "cell_type": "code",
      "source": [
        "my_string = \"50%\"\n",
        "if my_string.endswith((\"%\", \"월\")):\n",
        "    print(f\"{my_string} ends with '%' or '월'\")\n",
        "else:\n",
        "    print(f\"{my_string} does not end with '%' or '월'\")"
      ],
      "metadata": {
        "id": "LvfomJd5BD1q"
      },
      "execution_count": null,
      "outputs": []
    },
    {
      "cell_type": "code",
      "source": [
        "my_string = \"123abc\"\n",
        "if my_string.startswith(('0', '1', '2', '3', '4', '5', '6', '7', '8', '9')):\n",
        "    print(f\"{my_string} starts with a digit\")\n",
        "else:\n",
        "    print(f\"{my_string} does not start with a digit\")"
      ],
      "metadata": {
        "id": "E3GNs0pQ_2cH"
      },
      "execution_count": null,
      "outputs": []
    },
    {
      "cell_type": "code",
      "source": [
        "def check_string(my_string):\n",
        "    if \"*\" in my_string:\n",
        "        print(f\"{my_string} contains an asterisk\")\n",
        "    else:\n",
        "        print(f\"{my_string} does not contain an asterisk\")\n",
        "\n",
        "    if my_string.endswith((\"%\", \"월\")):\n",
        "        print(f\"{my_string} ends with '%' or '월'\")\n",
        "    else:\n",
        "        print(f\"{my_string} does not end with '%' or '월'\")\n",
        "\n",
        "    if my_string.startswith(('0', '1', '2', '3', '4', '5', '6', '7', '8', '9')):\n",
        "        print(f\"{my_string} starts with a digit\")\n",
        "    else:\n",
        "        print(f\"{my_string} does not start with a digit\")"
      ],
      "metadata": {
        "id": "8yMyhA5lCehV"
      },
      "execution_count": null,
      "outputs": []
    },
    {
      "cell_type": "code",
      "source": [
        "def check_string(my_string):\n",
        "    if \"*\" in my_string and my_string.endswith((\"%\", \"월\")) and my_string.startswith(('0', '1', '2', '3', '4', '5', '6', '7', '8', '9')):\n",
        "        print(f\"{my_string} meets all conditions\")\n",
        "    else:\n",
        "        print(f\"{my_string} does not meet all conditions\")"
      ],
      "metadata": {
        "id": "g6__YfuUDAvC"
      },
      "execution_count": null,
      "outputs": []
    },
    {
      "cell_type": "code",
      "source": [
        "\n",
        "# 이게 가장 나은 방법일 듯\n",
        "def check_cell(cell):\n",
        "    if isinstance(cell, str):\n",
        "        if cell.startswith(('0)', '1)', '2)', '3)', '4)', '5)', '6', '7', '8', '9', '(')) and cell.endswith(('%', '월', '일', '*', '년', '회')):\n",
        "            return True\n",
        "        elif '*' in cell:\n",
        "            return True\n",
        "    return False\n",
        "\n",
        "df['temp'] = df['편성세부운영비'].apply(check_cell)\n",
        "df['temp'] == True\n",
        "df"
      ],
      "metadata": {
        "id": "WMBkIxRB2nvf"
      },
      "execution_count": null,
      "outputs": []
    },
    {
      "cell_type": "code",
      "source": [
        "import pandas as pd\n",
        "\n",
        "def check_string(my_string):\n",
        "    if my_string.endswith(('%', '월', '일', '*', '년', '회')) and my_string.startswith(('0)', '1)', '2)', '3)', '4)', '5)', '6', '7', '8', '9', '(')):\n",
        "        return True\n",
        "    else:\n",
        "        return False\n",
        "\n",
        "# Apply the check_string function to the '편성세부운영비' column\n",
        "df['meets_conditions'] = df['편성세부운영비'].apply(check_string)\n",
        "df"
      ],
      "metadata": {
        "id": "9pWVwZYHDatp"
      },
      "execution_count": null,
      "outputs": []
    },
    {
      "cell_type": "code",
      "source": [],
      "metadata": {
        "id": "zs97ctXM9whb"
      },
      "execution_count": null,
      "outputs": []
    },
    {
      "cell_type": "code",
      "source": [
        "# Export the DataFrame to an Excel file\n",
        "df.to_excel('output3.xlsx', index=False)"
      ],
      "metadata": {
        "id": "EAZdV5R36QpA"
      },
      "execution_count": null,
      "outputs": []
    }
  ]
}