{
 "cells": [
  {
   "cell_type": "markdown",
   "id": "11a475ad",
   "metadata": {
    "papermill": {
     "duration": 0.015428,
     "end_time": "2023-06-01T08:05:33.131724",
     "exception": false,
     "start_time": "2023-06-01T08:05:33.116296",
     "status": "completed"
    },
    "tags": []
   },
   "source": [
    "## Hi I'm momo. \n",
    "\n",
    "\n",
    "### our team figured out Freeze index (FI) is imperative to win this contest. \n",
    "\n",
    "\n",
    "# Let's get into it!"
   ]
  },
  {
   "cell_type": "markdown",
   "id": "d34474b1",
   "metadata": {
    "papermill": {
     "duration": 0.012791,
     "end_time": "2023-06-01T08:05:33.157754",
     "exception": false,
     "start_time": "2023-06-01T08:05:33.144963",
     "status": "completed"
    },
    "tags": []
   },
   "source": [
    "# Freezing of Gait prediction by adding FI as a feature!\n",
    "\n",
    "<img src=\"https://pic4.zhimg.com/80/v2-9be338bc3e56415f86598a598737b613_1440w.webp\" width=\"500\" height=\"500\">"
   ]
  },
  {
   "cell_type": "markdown",
   "id": "c95f203d",
   "metadata": {
    "papermill": {
     "duration": 0.012927,
     "end_time": "2023-06-01T08:05:33.183793",
     "exception": false,
     "start_time": "2023-06-01T08:05:33.170866",
     "status": "completed"
    },
    "tags": []
   },
   "source": [
    "refer: https://zhuanlan.zhihu.com/p/26014960"
   ]
  },
  {
   "cell_type": "markdown",
   "id": "554d9a26",
   "metadata": {
    "papermill": {
     "duration": 0.012747,
     "end_time": "2023-06-01T08:05:33.209684",
     "exception": false,
     "start_time": "2023-06-01T08:05:33.196937",
     "status": "completed"
    },
    "tags": []
   },
   "source": [
    "## Goal:\n",
    "### detect freezing of gait (FOG) in people with Parkinson’s disease \n",
    "### using a machine learning model trained on data collected from a wearable 3D lower back sensor."
   ]
  },
  {
   "cell_type": "markdown",
   "id": "1058e63c",
   "metadata": {
    "papermill": {
     "duration": 0.013407,
     "end_time": "2023-06-01T08:05:33.236541",
     "exception": false,
     "start_time": "2023-06-01T08:05:33.223134",
     "status": "completed"
    },
    "tags": []
   },
   "source": [
    "Alrigt, how much do you know about \"Gait\" symptoms for this task? \n",
    "\n",
    "We need to focus on what are the criteria for getting FOG data.\n",
    "\n",
    "So, here are the terms you need to know\n",
    "\n",
    "## Step(걸음)\n",
    "왼쪽 발이 땅에 딛는 initial contact 부터 오른쪽 발이 땅에 닿는 opposite initial contact 부분까지\n",
    "\n",
    "From the initial contact where the left foot hits the ground to the opposite initial contact where the right foot hits the ground.\n",
    "\n",
    "## Stride(보폭 또는 활보)\n",
    "왼쪽 발이 땅에 딛는 initial contact 부터 Next initial contact 까지\n",
    "\n",
    "\n",
    "From the initial contact when the left foot hits the ground to the next initial contact"
   ]
  },
  {
   "cell_type": "markdown",
   "id": "a0037096",
   "metadata": {
    "papermill": {
     "duration": 0.012961,
     "end_time": "2023-06-01T08:05:33.263289",
     "exception": false,
     "start_time": "2023-06-01T08:05:33.250328",
     "status": "completed"
    },
    "tags": []
   },
   "source": [
    "![d](https://img1.daumcdn.net/thumb/R1280x0/?scode=mtistory2&fname=https%3A%2F%2Fblog.kakaocdn.net%2Fdn%2FbXjNZk%2FbtqAMjLesok%2FS1Cl73Yx2mzopNsi84XJFk%2Fimg.png)"
   ]
  },
  {
   "cell_type": "markdown",
   "id": "925b652f",
   "metadata": {
    "papermill": {
     "duration": 0.012791,
     "end_time": "2023-06-01T08:05:33.289785",
     "exception": false,
     "start_time": "2023-06-01T08:05:33.276994",
     "status": "completed"
    },
    "tags": []
   },
   "source": [
    "This image looks perfect for showing steps and strides.\n",
    "\n",
    "![stepstride](https://img1.daumcdn.net/thumb/R1280x0/?scode=mtistory2&fname=https%3A%2F%2Fblog.kakaocdn.net%2Fdn%2FAWaRX%2FbtqAN4GkTLp%2FkgMoxc43Stggp7eEyDEdwk%2Fimg.png)"
   ]
  },
  {
   "cell_type": "markdown",
   "id": "9d70ef41",
   "metadata": {
    "papermill": {
     "duration": 0.012802,
     "end_time": "2023-06-01T08:05:33.315475",
     "exception": false,
     "start_time": "2023-06-01T08:05:33.302673",
     "status": "completed"
    },
    "tags": []
   },
   "source": [
    "##### **Korean**"
   ]
  },
  {
   "cell_type": "markdown",
   "id": "9c9d6d07",
   "metadata": {
    "_kg_hide-input": true,
    "_kg_hide-output": true,
    "papermill": {
     "duration": 0.012788,
     "end_time": "2023-06-01T08:05:33.341213",
     "exception": false,
     "start_time": "2023-06-01T08:05:33.328425",
     "status": "completed"
    },
    "tags": []
   },
   "source": [
    "![d](https://lh3.googleusercontent.com/Nz0j5CoBTeU3qKUOjqvezfteb8VWRXr-HGgp7DJB3Epj5IW0jfsy0Cxux1pdG41FPAff-JjwhZC7OdBSaZh8tq-NWS0q6wFtf4VNBo8n)\n",
    "\n",
    "refer : https://blog.naver.com/PostView.nhn?isHttpsRedirect=true&blogId=artkmd&logNo=220991698476"
   ]
  },
  {
   "cell_type": "markdown",
   "id": "564a7730",
   "metadata": {
    "papermill": {
     "duration": 0.012786,
     "end_time": "2023-06-01T08:05:33.366971",
     "exception": false,
     "start_time": "2023-06-01T08:05:33.354185",
     "status": "completed"
    },
    "tags": []
   },
   "source": [
    "![vertical](https://img1.daumcdn.net/thumb/R1280x0/?scode=mtistory2&fname=https%3A%2F%2Fblog.kakaocdn.net%2Fdn%2FbA5pLe%2FbtqAM5sfgo2%2FJTSbyVJ4c8Bgtek4akYKCk%2Fimg.png)"
   ]
  },
  {
   "cell_type": "markdown",
   "id": "8f55f804",
   "metadata": {
    "papermill": {
     "duration": 0.012733,
     "end_time": "2023-06-01T08:05:33.392802",
     "exception": false,
     "start_time": "2023-06-01T08:05:33.380069",
     "status": "completed"
    },
    "tags": []
   },
   "source": [
    "As you can see, the vertical orientation is sufficient for comparing a subject to a normal person.\n",
    "\n",
    "That's why so many papers obsessed with vertical direction! (I think)"
   ]
  },
  {
   "cell_type": "markdown",
   "id": "fd25c0ef",
   "metadata": {
    "papermill": {
     "duration": 0.012821,
     "end_time": "2023-06-01T08:05:33.418589",
     "exception": false,
     "start_time": "2023-06-01T08:05:33.405768",
     "status": "completed"
    },
    "tags": []
   },
   "source": [
    "![kester](https://lh3.googleusercontent.com/VQK_rCBFcXTPXyiA1yi8hBtFX7iOYDdV54mksGNjDOwvhJg9aR1z2dpxic8NBipdzosC-rBotrvxCYnOthnJKLP1zGZqgFDgcBOvW6g)"
   ]
  },
  {
   "cell_type": "markdown",
   "id": "a47b5d94",
   "metadata": {
    "papermill": {
     "duration": 0.012641,
     "end_time": "2023-06-01T08:05:33.444175",
     "exception": false,
     "start_time": "2023-06-01T08:05:33.431534",
     "status": "completed"
    },
    "tags": []
   },
   "source": [
    "Acceleration values have dirty noise, which can make it difficult to detect FOG event points.\n",
    "\n",
    "That's why we need to use FI to clearly target FOG events."
   ]
  },
  {
   "cell_type": "markdown",
   "id": "633e3ad0",
   "metadata": {
    "papermill": {
     "duration": 0.012811,
     "end_time": "2023-06-01T08:05:33.469876",
     "exception": false,
     "start_time": "2023-06-01T08:05:33.457065",
     "status": "completed"
    },
    "tags": []
   },
   "source": [
    "**Korean**"
   ]
  },
  {
   "cell_type": "markdown",
   "id": "208834de",
   "metadata": {
    "_kg_hide-input": true,
    "_kg_hide-output": true,
    "papermill": {
     "duration": 0.01291,
     "end_time": "2023-06-01T08:05:33.496172",
     "exception": false,
     "start_time": "2023-06-01T08:05:33.483262",
     "status": "completed"
    },
    "tags": []
   },
   "source": [
    "나의 사랑 다크프로그래머 >w<\n",
    "출처: https://darkpgmr.tistory.com/171\n",
    "\n",
    "푸리에 변환(Fourier transform)을 직관적으로 설명하면 푸리에 변환은 임의의 입력 신호를 다양한 주파수를 갖는 주기함수들의 합으로 분해하여 표현하는 것이다.\n",
    "\n",
    "\n",
    "좀더 들어가면, 푸리에 변환에서 사용하는 주기함수는 sin, cos 삼각함수이며 푸리에 변환은 고주파부터 저주파까지 다양한 주파수 대역의 sin, cos 함수들로 원본 신호를 분해하는 것이다.\n",
    "\n",
    "\n",
    "C. 푸리에 변환의 페이즈(phase)\n",
    "\n",
    "\n",
    "\n",
    "푸리에 변환(Fourier transform)에서 스펙트럼(spectrum)은 잘 알려진 반면 페이즈(phase)는 상대적으로 잘 알려져 있지 않다. 하지만 페이즈(phase)에도 스펙트럼(spectrum) 못지 않은 중요한 정보가 담겨 있다고 한다.\n",
    "\n",
    "\n",
    "\n",
    "페이즈(phase)를 우리말로 번역하면 '단계'가 되고 전문용어로는 '위상'이 된다. 위키피디아에는페이즈(phase, 위상)를 '반복되는 파형의 한 주기에서 첫 시작점의 각도 혹은 어느 한 순간의 위치'라고 정의한다. 즉, 파형(wave)의 시점이 어디인지가 페이즈(phase)이다. 예를 들어, sin 파와 cos 파는 90도의 페이즈(phase, 위상) 차이가 존재하는 동일한 파형으로 볼 수 있다.\n",
    "\n",
    "\n",
    "\n",
    "푸리에 변환의 관점에서 보면 페이즈(phase)는 원본 신호를 주기 신호로 분해했을 때 각 주기성분의 시점이 어딘인지(즉, 각 주기성분들이 어떻게 줄을 맞춰서 원본 신호를 생성했는지)를 나타내는 요소가 된다.\n",
    "\n",
    "\n",
    "\n",
    "아래 그림은 페이즈(phase)의 영향을 보여주는 예로서 파란색 주기성분 신호들을 합쳐서 빨간색 신호가 생성되는 예를 보여준다. 왼쪽, 오른쪽 경우 모두 동일한 주파수의 주기성분들을 합쳤지만 각 성분의 페이즈(phase) 차이로 인하여 전혀 다른 신호가 생성됨을 확인할 수 있다.\n"
   ]
  },
  {
   "cell_type": "markdown",
   "id": "bea4aa68",
   "metadata": {
    "papermill": {
     "duration": 0.012764,
     "end_time": "2023-06-01T08:05:33.521990",
     "exception": false,
     "start_time": "2023-06-01T08:05:33.509226",
     "status": "completed"
    },
    "tags": []
   },
   "source": [
    "\n",
    "#### Fourier Transform??\n",
    "Intuitively, the Fourier transform is the decomposition of an arbitrary input signal into a sum of periodic functions with different frequencies.\n",
    "\n",
    "\n",
    "More specifically, the periodic functions used by the Fourier transform are sin and cos trigonometric functions, and the Fourier transform decomposes the original signal into sin and cos functions in various frequency bands, from high to low.\n",
    "\n",
    "\n",
    "\n",
    "![image.png](https://lh3.googleusercontent.com/VTx4wjGJoZZAVb3VM7c4Gph15B_iKestND9XD3mo-wRj7dJApCF5TClT3z9sRkL43nHiqapJqHM-DPL67kY-8cT9gmchfw9SxwTGt7Al)\n",
    "\n",
    "\n",
    "\n",
    "#### Phase in the Fourier Transform\n",
    "\n",
    "Wikipedia defines phase as \"the angle of the initial starting point or the position of any instant in a cycle of a repeating waveform\". \n",
    "\n",
    "\n",
    "In other words, where a wave is at any given time is its phase. \n",
    "\n",
    "Phase (waves), **the position of a point in time (an instant) on a waveform cycle**\n",
    "\n",
    "in continuous Fourier transform, **the angle of a complex coefficient representing the phase of one sinusoidal component**\n",
    "\n",
    "\n",
    "For example, a sin wave and a cos wave can be viewed as the same waveform with a 90-degree difference in phase.\n",
    "\n",
    "\n",
    "In terms of the Fourier transform, **phase is a factor that describes where each periodic component is located when the original signal is decomposed into periodic signals** (i.e., how the periodic components line up to create the original signal).\n",
    "\n",
    "\n",
    "\n",
    "As an example of the effect of phase, the figure below shows the blue periodic component signals combined to produce a red signal. Notice that both the left and right cases combine periodic **components of the same frequency, but the difference in the phase of each component results in a completely different signal**.\n",
    "\n",
    "![image.png](https://lh3.googleusercontent.com/gLZL22R0u1705e8KNOykUOrbFV9tvpeMAzwR8BVXq7D2-ZFkrFimAagxGhJdsOuBjWfQIEw7lsN10Q71db7Dh8Pt-SnuPAxBDXTa7O3C)"
   ]
  },
  {
   "cell_type": "markdown",
   "id": "743c4079",
   "metadata": {
    "papermill": {
     "duration": 0.013225,
     "end_time": "2023-06-01T08:05:33.549220",
     "exception": false,
     "start_time": "2023-06-01T08:05:33.535995",
     "status": "completed"
    },
    "tags": []
   },
   "source": [
    "# Dependencies"
   ]
  },
  {
   "cell_type": "code",
   "execution_count": 1,
   "id": "c8ddb384",
   "metadata": {
    "execution": {
     "iopub.execute_input": "2023-06-01T08:05:33.577490Z",
     "iopub.status.busy": "2023-06-01T08:05:33.576806Z",
     "iopub.status.idle": "2023-06-01T08:05:35.674783Z",
     "shell.execute_reply": "2023-06-01T08:05:35.673558Z"
    },
    "papermill": {
     "duration": 2.115404,
     "end_time": "2023-06-01T08:05:35.677682",
     "exception": false,
     "start_time": "2023-06-01T08:05:33.562278",
     "status": "completed"
    },
    "tags": []
   },
   "outputs": [],
   "source": [
    "from sklearn.ensemble import RandomForestRegressor\n",
    "from sklearn.model_selection import train_test_split\n",
    "from sklearn import metrics\n",
    "from imblearn.over_sampling import RandomOverSampler\n",
    "import glob\n",
    "import gc\n",
    "\n",
    "# Plot the power spectral density\n",
    "import matplotlib.pyplot as plt\n",
    "import numpy as np\n",
    "import pandas as pd\n",
    "\n",
    "BASE_PATH = \"/kaggle/input/tlvmc-parkinsons-freezing-gait-prediction/\"\n",
    "train_defog = glob.glob(BASE_PATH + 'train/defog/*.csv')\n",
    "train_tdcsfog = glob.glob(BASE_PATH + 'train/tdcsfog/*.csv')\n"
   ]
  },
  {
   "cell_type": "markdown",
   "id": "904d279a",
   "metadata": {
    "papermill": {
     "duration": 0.012708,
     "end_time": "2023-06-01T08:05:35.703731",
     "exception": false,
     "start_time": "2023-06-01T08:05:35.691023",
     "status": "completed"
    },
    "tags": []
   },
   "source": [
    "# Freeze Index (FI)"
   ]
  },
  {
   "cell_type": "markdown",
   "id": "38f7e774",
   "metadata": {
    "papermill": {
     "duration": 0.012624,
     "end_time": "2023-06-01T08:05:35.729498",
     "exception": false,
     "start_time": "2023-06-01T08:05:35.716874",
     "status": "completed"
    },
    "tags": []
   },
   "source": [
    "To calculate the Freeze Index (FI) from freezing of gait data using Python, you can use a function that computes the average power of the signal in a specific frequency band. The Freeze Index is defined as the ratio between the power contained in the so-called freezing and locomotion frequency bands (3-8 Hz and 0.5-3 Hz respectively). You can use a function like bandpower to get the power in each frequency band and divide them1.\n",
    "\n",
    "Here is an example of a freeze_index function that calculates the Freeze Index using the bandpower function2:"
   ]
  },
  {
   "cell_type": "markdown",
   "id": "4ade1216",
   "metadata": {
    "papermill": {
     "duration": 0.013329,
     "end_time": "2023-06-01T08:05:35.756054",
     "exception": false,
     "start_time": "2023-06-01T08:05:35.742725",
     "status": "completed"
    },
    "tags": []
   },
   "source": [
    "> def freeze_index(data, sf, band1, band2, win_sec=None, relative=False):\n",
    "    fi = bandpower(data, sf, band1, win_sec, relative) / bandpower(data, sf, band2, win_sec, relative)\n",
    "    return fi"
   ]
  },
  {
   "cell_type": "markdown",
   "id": "ae37bfc9",
   "metadata": {
    "papermill": {
     "duration": 0.013069,
     "end_time": "2023-06-01T08:05:35.782396",
     "exception": false,
     "start_time": "2023-06-01T08:05:35.769327",
     "status": "completed"
    },
    "tags": []
   },
   "source": [
    "You can call this function with your data and specify the sampling frequency (sf), frequency bands (band1 and band2), window length (win_sec), and whether to return relative power (relative).\n"
   ]
  },
  {
   "cell_type": "markdown",
   "id": "690d766a",
   "metadata": {
    "papermill": {
     "duration": 0.012802,
     "end_time": "2023-06-01T08:05:35.808890",
     "exception": false,
     "start_time": "2023-06-01T08:05:35.796088",
     "status": "completed"
    },
    "tags": []
   },
   "source": [
    "The Freeze Index (FI) is a biomarker used to detect freezing of gait (FOG) in Parkinson’s disease. It is defined as the ratio of the areas under power spectra in the ‘freeze’ band and in the ‘locomotion’ band1. To calculate the FI using the data you provided, you would need to extract the power spectra from the acceleration data and calculate the ratio of the areas under the ‘freeze’ and ‘locomotion’ bands."
   ]
  },
  {
   "cell_type": "markdown",
   "id": "9c799786",
   "metadata": {
    "papermill": {
     "duration": 0.012692,
     "end_time": "2023-06-01T08:05:35.834718",
     "exception": false,
     "start_time": "2023-06-01T08:05:35.822026",
     "status": "completed"
    },
    "tags": []
   },
   "source": [
    "To extract power spectra from acceleration data, you can use a mathematical tool called the Fast Fourier Transform (FFT). The FFT is an efficient algorithm for computing the Discrete Fourier Transform (DFT) of a signal, which decomposes the signal into its frequency components. You can apply the FFT to the acceleration data to obtain its power spectra."
   ]
  },
  {
   "cell_type": "code",
   "execution_count": 2,
   "id": "f6d912f3",
   "metadata": {
    "execution": {
     "iopub.execute_input": "2023-06-01T08:05:35.862738Z",
     "iopub.status.busy": "2023-06-01T08:05:35.862326Z",
     "iopub.status.idle": "2023-06-01T08:05:35.868215Z",
     "shell.execute_reply": "2023-06-01T08:05:35.867081Z"
    },
    "papermill": {
     "duration": 0.022653,
     "end_time": "2023-06-01T08:05:35.870472",
     "exception": false,
     "start_time": "2023-06-01T08:05:35.847819",
     "status": "completed"
    },
    "tags": []
   },
   "outputs": [],
   "source": [
    " def get_data(f):\n",
    "    # Read the CSV file into a DataFrame\n",
    "    df = pd.read_csv(f)\n",
    "    \n",
    "    # Extract the file name without the extension and set it as the 'Id' column\n",
    "    df['Id'] = f.split('/')[-1].split('.')[0]\n",
    "    \n",
    "    # Extract the parent directory name and set it as the 'data_type' column\n",
    "    df['data_type'] = f.split('/')[-2]\n",
    "    \n",
    "    # Return the modified DataFrame\n",
    "    return df"
   ]
  },
  {
   "cell_type": "code",
   "execution_count": 3,
   "id": "01e66cfb",
   "metadata": {
    "execution": {
     "iopub.execute_input": "2023-06-01T08:05:35.899574Z",
     "iopub.status.busy": "2023-06-01T08:05:35.898821Z",
     "iopub.status.idle": "2023-06-01T08:06:25.503304Z",
     "shell.execute_reply": "2023-06-01T08:06:25.501968Z"
    },
    "papermill": {
     "duration": 49.634759,
     "end_time": "2023-06-01T08:06:25.518932",
     "exception": false,
     "start_time": "2023-06-01T08:05:35.884173",
     "status": "completed"
    },
    "tags": []
   },
   "outputs": [
    {
     "name": "stdout",
     "output_type": "stream",
     "text": [
      "Index(['Time', 'AccV', 'AccML', 'AccAP', 'StartHesitation', 'Turn', 'Walking',\n",
      "       'Valid', 'Task', 'Id', 'data_type'],\n",
      "      dtype='object')\n"
     ]
    }
   ],
   "source": [
    "df_train_defog = pd.concat([get_data(f) for f in train_defog])\n",
    "df_train_tdcsfog = pd.concat([get_data(f) for f in train_tdcsfog])\n",
    "df_train = pd.concat([df_train_defog, df_train_tdcsfog])\n",
    "print(df_train.columns)"
   ]
  },
  {
   "cell_type": "code",
   "execution_count": 4,
   "id": "451ae62c",
   "metadata": {
    "execution": {
     "iopub.execute_input": "2023-06-01T08:06:25.547387Z",
     "iopub.status.busy": "2023-06-01T08:06:25.546903Z",
     "iopub.status.idle": "2023-06-01T08:06:25.552754Z",
     "shell.execute_reply": "2023-06-01T08:06:25.551612Z"
    },
    "papermill": {
     "duration": 0.02311,
     "end_time": "2023-06-01T08:06:25.555235",
     "exception": false,
     "start_time": "2023-06-01T08:06:25.532125",
     "status": "completed"
    },
    "tags": []
   },
   "outputs": [],
   "source": [
    "defog_acc = df_train_defog['AccV'].values\n",
    "tdcs_acc = df_train_tdcsfog['AccV'].values\n",
    "acc = df_train['AccV'].values"
   ]
  },
  {
   "cell_type": "code",
   "execution_count": 5,
   "id": "bc53fa92",
   "metadata": {
    "_kg_hide-input": true,
    "_kg_hide-output": true,
    "execution": {
     "iopub.execute_input": "2023-06-01T08:06:25.585397Z",
     "iopub.status.busy": "2023-06-01T08:06:25.585009Z",
     "iopub.status.idle": "2023-06-01T08:06:25.590182Z",
     "shell.execute_reply": "2023-06-01T08:06:25.588820Z"
    },
    "jupyter": {
     "source_hidden": true
    },
    "papermill": {
     "duration": 0.022618,
     "end_time": "2023-06-01T08:06:25.592411",
     "exception": false,
     "start_time": "2023-06-01T08:06:25.569793",
     "status": "completed"
    },
    "tags": []
   },
   "outputs": [],
   "source": [
    "# acc = df_train['AccV'].values\n",
    "\n",
    "# N = len(acc)\n",
    "# F = np.fft.fft(acc)\n",
    "# P = np.abs(F)**2"
   ]
  },
  {
   "cell_type": "markdown",
   "id": "e77065e3",
   "metadata": {
    "papermill": {
     "duration": 0.013284,
     "end_time": "2023-06-01T08:06:25.619317",
     "exception": false,
     "start_time": "2023-06-01T08:06:25.606033",
     "status": "completed"
    },
    "tags": []
   },
   "source": [
    "## How the FI is calculated. \n",
    "Specifically, we need to define the **‘freeze’** and **‘locomotion’** bands that are used to calculate the FI.\n",
    "\n",
    "\n",
    "**These bands represent frequency ranges in the power spectrum of the acceleration data.**\n",
    "\n",
    "\n",
    "Once you have defined these bands, you can use the power spectrum P calculated earlier to compute the areas under the ‘freeze’ and ‘locomotion’ bands. You can then calculate the FI as the ratio of these two areas.\n",
    "\n",
    "\n",
    "Here is an example of how you might calculate the FI in Python:"
   ]
  },
  {
   "cell_type": "markdown",
   "id": "d1010cb5",
   "metadata": {
    "papermill": {
     "duration": 0.013658,
     "end_time": "2023-06-01T08:06:25.647149",
     "exception": false,
     "start_time": "2023-06-01T08:06:25.633491",
     "status": "completed"
    },
    "tags": []
   },
   "source": [
    "G. Li et al\n",
    "\n",
    "The FOG online detection algorithms based on thresholds were explored previously. One was the algorithm of the \n",
    "\n",
    "freeze index (FI) : the power of the considered body segment acceleration signal in the “freeze” band (3–8 Hz) divided by the power of the signal in the “locomotor” band (0.5–3 Hz) and a FOG event was detected when FI exceeded a certain threshold. "
   ]
  },
  {
   "cell_type": "code",
   "execution_count": 6,
   "id": "87fc4ab8",
   "metadata": {
    "execution": {
     "iopub.execute_input": "2023-06-01T08:06:25.676248Z",
     "iopub.status.busy": "2023-06-01T08:06:25.675459Z",
     "iopub.status.idle": "2023-06-01T08:06:25.744193Z",
     "shell.execute_reply": "2023-06-01T08:06:25.743159Z"
    },
    "papermill": {
     "duration": 0.086221,
     "end_time": "2023-06-01T08:06:25.746711",
     "exception": false,
     "start_time": "2023-06-01T08:06:25.660490",
     "status": "completed"
    },
    "tags": []
   },
   "outputs": [],
   "source": [
    "from scipy.signal import welch\n",
    "\n",
    "def freeze_index(data, sf, freeze_band=(3, 8), locomotor_band=(0.5, 3)):\n",
    "    \"\"\"\n",
    "    Calculate the Freeze Index (FI) from acceleration data.\n",
    "\n",
    "    Parameters\n",
    "    ----------\n",
    "    data : array_like\n",
    "        1D array of acceleration data.\n",
    "    sf : float\n",
    "        Sampling frequency of the data.\n",
    "    freeze_band : tuple of float\n",
    "        Frequency band for the \"freeze\" band (default is (3, 8)).\n",
    "    locomotor_band : tuple of float\n",
    "        Frequency band for the \"locomotor\" band (default is (0.5, 3)).\n",
    "\n",
    "    Returns\n",
    "    -------\n",
    "    fi : float\n",
    "        The Freeze Index (FI) of the data.\n",
    "    \"\"\"\n",
    "    # Calculate the power spectral density of the data\n",
    "    f, Pxx = welch(data, sf)\n",
    "\n",
    "    # Find the indices of the frequency bands\n",
    "    freeze_idx = np.logical_and(f >= freeze_band[0], f <= freeze_band[1])\n",
    "    locomotor_idx = np.logical_and(f >= locomotor_band[0], f <= locomotor_band[1])\n",
    "\n",
    "    # Calculate the power in each frequency band\n",
    "    freeze_power = np.trapz(Pxx[freeze_idx], f[freeze_idx])\n",
    "    locomotor_power = np.trapz(Pxx[locomotor_idx], f[locomotor_idx])\n",
    "\n",
    "    # Calculate the Freeze Index (FI)\n",
    "    fi = freeze_power / locomotor_power\n",
    "\n",
    "    return fi\n",
    "\n",
    "# # Example usage\n",
    "# tdcs_sf = 128\n",
    "# defog_sf = 100  # Sampling frequency\n",
    "\n",
    "# tdcs_fi = freeze_index(tdcs_acc, tdcs_sf)\n",
    "# defog_fi = freeze_index(defog_acc, defog_sf)\n",
    "\n",
    "# print(f\"tdcs Freeze Index: {tdcs_fi:.2f}\")\n",
    "# print(f\"de Freeze Index: {defog_fi:.2f}\")\n"
   ]
  },
  {
   "cell_type": "code",
   "execution_count": 7,
   "id": "880ab0bc",
   "metadata": {
    "_kg_hide-input": true,
    "collapsed": true,
    "execution": {
     "iopub.execute_input": "2023-06-01T08:06:25.775724Z",
     "iopub.status.busy": "2023-06-01T08:06:25.775015Z",
     "iopub.status.idle": "2023-06-01T08:06:25.779852Z",
     "shell.execute_reply": "2023-06-01T08:06:25.778885Z"
    },
    "jupyter": {
     "outputs_hidden": true,
     "source_hidden": true
    },
    "papermill": {
     "duration": 0.022235,
     "end_time": "2023-06-01T08:06:25.782261",
     "exception": false,
     "start_time": "2023-06-01T08:06:25.760026",
     "status": "completed"
    },
    "tags": []
   },
   "outputs": [],
   "source": [
    "# # Generate some random acceleration data\n",
    "# sf = 100  # Sampling frequency\n",
    "# t = np.arange(0, 10, 1/sf)  # Time vector\n",
    "# data = np.random.randn(len(t))  # Random acceleration data\n",
    "\n",
    "# # Apply the FFT to the data\n",
    "# f = np.fft.rfftfreq(len(data), 1/sf)  # Frequency vector\n",
    "# F = np.fft.rfft(data)  # FFT of the data\n",
    "\n",
    "# # Calculate the power spectral density of the data\n",
    "# Pxx = np.abs(F)**2 / (sf * len(data))\n",
    "\n",
    "# plt.plot(f, Pxx)\n",
    "# plt.xlabel('Frequency (Hz)')\n",
    "# plt.ylabel('Power')\n",
    "# plt.show()"
   ]
  },
  {
   "cell_type": "markdown",
   "id": "6616968b",
   "metadata": {
    "papermill": {
     "duration": 0.012909,
     "end_time": "2023-06-01T08:06:25.808351",
     "exception": false,
     "start_time": "2023-06-01T08:06:25.795442",
     "status": "completed"
    },
    "tags": []
   },
   "source": [
    "![thresh](https://media.springernature.com/full/springer-static/image/art%3A10.1186%2F1743-0003-10-19/MediaObjects/12984_2012_Article_436_Fig3_HTML.jpg)"
   ]
  },
  {
   "cell_type": "code",
   "execution_count": 8,
   "id": "5a2a04bb",
   "metadata": {
    "execution": {
     "iopub.execute_input": "2023-06-01T08:06:25.836893Z",
     "iopub.status.busy": "2023-06-01T08:06:25.836424Z",
     "iopub.status.idle": "2023-06-01T08:06:35.205160Z",
     "shell.execute_reply": "2023-06-01T08:06:35.203474Z"
    },
    "papermill": {
     "duration": 9.386231,
     "end_time": "2023-06-01T08:06:35.207762",
     "exception": false,
     "start_time": "2023-06-01T08:06:25.821531",
     "status": "completed"
    },
    "tags": []
   },
   "outputs": [
    {
     "data": {
      "image/png": "[encoded data removed]",
      "text/plain": [
       "<Figure size 640x480 with 1 Axes>"
      ]
     },
     "metadata": {},
     "output_type": "display_data"
    }
   ],
   "source": [
    "\n",
    "# Define the sampling frequency, window length, and threshold\n",
    "sf = 128  # Hz\n",
    "win_sec = 2  # seconds\n",
    "threshold = 2.3\n",
    "\n",
    "# Calculate the number of samples per window\n",
    "win_size = int(win_sec * sf)\n",
    "\n",
    "# Calculate the number of windows in the data\n",
    "n_windows = len(tdcs_acc) // win_size\n",
    "\n",
    "# Initialize an array to store the FI values\n",
    "fi_values = np.zeros(n_windows)\n",
    "\n",
    "# Loop over each window of data\n",
    "for i in range(n_windows):\n",
    "    # Get the current window of data\n",
    "    start = i * win_size\n",
    "    stop = start + win_size\n",
    "    data_win = tdcs_acc[start:stop]\n",
    "\n",
    "    # Calculate the Freeze Index (FI) for this window\n",
    "    fi = freeze_index(data_win, sf)\n",
    "    fi_values[i] = fi\n",
    "\n",
    "# Plot the FI values and the threshold\n",
    "plt.plot(fi_values)\n",
    "plt.axhline(threshold, color='r', linestyle='--')\n",
    "plt.xlabel('Window')\n",
    "plt.ylabel('Freeze Index')\n",
    "plt.show()"
   ]
  },
  {
   "cell_type": "code",
   "execution_count": 9,
   "id": "9796c853",
   "metadata": {
    "execution": {
     "iopub.execute_input": "2023-06-01T08:06:35.237393Z",
     "iopub.status.busy": "2023-06-01T08:06:35.236988Z",
     "iopub.status.idle": "2023-06-01T08:06:41.938886Z",
     "shell.execute_reply": "2023-06-01T08:06:41.937836Z"
    },
    "papermill": {
     "duration": 6.720095,
     "end_time": "2023-06-01T08:06:41.941889",
     "exception": false,
     "start_time": "2023-06-01T08:06:35.221794",
     "status": "completed"
    },
    "tags": []
   },
   "outputs": [],
   "source": [
    "# Define window length\n",
    "win_sec = 4 # seconds\n",
    "\n",
    "# Read the metadata files into DataFrames\n",
    "tdcsfog_metadata = pd.read_csv(BASE_PATH + '/tdcsfog_metadata.csv')\n",
    "events = pd.read_csv(BASE_PATH + '/events.csv')\n",
    "tasks = pd.read_csv(BASE_PATH + '/tasks.csv')\n",
    "\n",
    "# Get the Id for a row in the tdcsfog_metadata DataFrame\n",
    "id = tdcsfog_metadata.loc[0, 'Id']\n",
    "\n",
    "# Get the sampling frequency and subfolder name for this Id\n",
    "if id.startswith('tdcsfog'):\n",
    "    sf = 128  # Hz\n",
    "    subfolder = 'tdcsfog'\n",
    "else:\n",
    "    sf = 100  # Hz\n",
    "    subfolder = 'defog'\n",
    "\n",
    "# Calculate the number of samples per window\n",
    "win_size = int(win_sec * sf)  # result is 500\n",
    "\n",
    "# Read the acceleration data from a CSV file\n",
    "acc_data = pd.read_csv('/kaggle/input/tlvmc-parkinsons-freezing-gait-prediction/train/tdcsfog/003f117e14.csv')\n",
    "\n",
    "# Get the acceleration data for each axis\n",
    "acc_v = acc_data['AccV'].values\n",
    "acc_ml = acc_data['AccML'].values\n",
    "acc_ap = acc_data['AccAP'].values\n",
    "\n",
    "# # Combine the acceleration data into a single array\n",
    "# acc = np.column_stack((acc_v, acc_ml, acc_ap))\n",
    "# acc_1d = np.concatenate((acc_v, acc_ml, acc_ap))\n",
    "\n",
    "# Calculate the number of windows in the data\n",
    "n_windows = len(tdcs_acc) // win_size  \n",
    "\n",
    "# Initialize arrays to store the feature values\n",
    "fi_values = np.zeros(n_windows)\n",
    "ei_values = np.zeros(n_windows)\n",
    "\n",
    "# Loop over each window of data\n",
    "for i in range(n_windows):\n",
    "    # Get the current window of data\n",
    "    start = i * win_size\n",
    "    stop = start + win_size\n",
    "    data_win = tdcs_acc[start:stop]\n",
    "\n",
    "    # Calculate the Freeze Index (FI) for this window\n",
    "    fi = freeze_index(data_win, sf)\n",
    "    fi_values[i] = fi\n",
    "\n",
    "    # Calculate the Energy Index (EI) for this window\n",
    "    ei = np.sum(data_win ** 2)\n",
    "    ei_values[i] = ei\n",
    "\n",
    "# Define the threshold value\n",
    "threshold = 7\n",
    "\n",
    "# Apply the threshold to the FI and EI values\n",
    "fi_fog = fi_values > threshold\n",
    "ei_fog = ei_values > threshold\n",
    "\n",
    "# Calculate the boolean mask indicating FOG events\n",
    "mb = np.logical_and(fi_fog, ei_fog)"
   ]
  },
  {
   "cell_type": "code",
   "execution_count": null,
   "id": "13eb1115",
   "metadata": {
    "execution": {
     "iopub.execute_input": "2023-05-31T05:56:18.806209Z",
     "iopub.status.busy": "2023-05-31T05:56:18.804539Z",
     "iopub.status.idle": "2023-05-31T05:56:18.813093Z",
     "shell.execute_reply": "2023-05-31T05:56:18.811923Z",
     "shell.execute_reply.started": "2023-05-31T05:56:18.806155Z"
    },
    "papermill": {
     "duration": 0.013602,
     "end_time": "2023-06-01T08:06:41.970280",
     "exception": false,
     "start_time": "2023-06-01T08:06:41.956678",
     "status": "completed"
    },
    "tags": []
   },
   "outputs": [],
   "source": []
  },
  {
   "cell_type": "code",
   "execution_count": 10,
   "id": "dc1c8c6b",
   "metadata": {
    "execution": {
     "iopub.execute_input": "2023-06-01T08:06:42.000367Z",
     "iopub.status.busy": "2023-06-01T08:06:41.999961Z",
     "iopub.status.idle": "2023-06-01T08:06:47.131241Z",
     "shell.execute_reply": "2023-06-01T08:06:47.129879Z"
    },
    "papermill": {
     "duration": 5.149779,
     "end_time": "2023-06-01T08:06:47.134130",
     "exception": false,
     "start_time": "2023-06-01T08:06:41.984351",
     "status": "completed"
    },
    "tags": []
   },
   "outputs": [
    {
     "data": {
      "image/png": "[encoded data removed]",
      "text/plain": [
       "<Figure size 640x480 with 1 Axes>"
      ]
     },
     "metadata": {},
     "output_type": "display_data"
    }
   ],
   "source": [
    "# Plot the original acceleration data\n",
    "plt.plot(tdcs_acc, label='AccV')\n",
    "\n",
    "plt.plot(data_win, label ='data_win')\n",
    "\n",
    "# Plot the FOG events detected using both indices\n",
    "plt.plot(fi_fog, label='FOG')\n",
    "\n",
    "# Add a legend and labels\n",
    "plt.legend()\n",
    "plt.xlabel('Window')\n",
    "plt.ylabel('Value')\n",
    "\n",
    "# Show the plot\n",
    "plt.show()"
   ]
  },
  {
   "cell_type": "code",
   "execution_count": 11,
   "id": "df19d14d",
   "metadata": {
    "collapsed": true,
    "execution": {
     "iopub.execute_input": "2023-06-01T08:06:47.166541Z",
     "iopub.status.busy": "2023-06-01T08:06:47.166072Z",
     "iopub.status.idle": "2023-06-01T08:06:47.533168Z",
     "shell.execute_reply": "2023-06-01T08:06:47.531935Z"
    },
    "jupyter": {
     "outputs_hidden": true,
     "source_hidden": true
    },
    "papermill": {
     "duration": 0.386532,
     "end_time": "2023-06-01T08:06:47.535914",
     "exception": false,
     "start_time": "2023-06-01T08:06:47.149382",
     "status": "completed"
    },
    "tags": []
   },
   "outputs": [
    {
     "data": {
      "image/png": "[encoded data removed]",
      "text/plain": [
       "<Figure size 640x480 with 1 Axes>"
      ]
     },
     "metadata": {},
     "output_type": "display_data"
    }
   ],
   "source": [
    "# Plot the original acceleration data\n",
    "plt.plot(acc_v, label='AccV')\n",
    "\n",
    "# Plot the FOG events detected using the FI values\n",
    "plt.plot(fi_fog, label='FI FOG')\n",
    "\n",
    "# Plot the FOG events detected using the EI values\n",
    "plt.plot(ei_fog, label='EI FOG')\n",
    "\n",
    "# Add a legend and labels\n",
    "plt.legend()\n",
    "plt.xlabel('Window')\n",
    "plt.ylabel('Value')\n",
    "\n",
    "# Show the plot\n",
    "plt.show()"
   ]
  },
  {
   "cell_type": "code",
   "execution_count": 12,
   "id": "e89e78c7",
   "metadata": {
    "collapsed": true,
    "execution": {
     "iopub.execute_input": "2023-06-01T08:06:47.567834Z",
     "iopub.status.busy": "2023-06-01T08:06:47.567412Z",
     "iopub.status.idle": "2023-06-01T08:06:48.068319Z",
     "shell.execute_reply": "2023-06-01T08:06:48.067042Z"
    },
    "jupyter": {
     "outputs_hidden": true,
     "source_hidden": true
    },
    "papermill": {
     "duration": 0.520184,
     "end_time": "2023-06-01T08:06:48.071284",
     "exception": false,
     "start_time": "2023-06-01T08:06:47.551100",
     "status": "completed"
    },
    "tags": []
   },
   "outputs": [
    {
     "data": {
      "image/png": "[encoded data removed]",
      "text/plain": [
       "<Figure size 640x480 with 1 Axes>"
      ]
     },
     "metadata": {},
     "output_type": "display_data"
    }
   ],
   "source": [
    "# Plot the original acceleration data\n",
    "plt.plot(acc_v, label='AccV')\n",
    "\n",
    "# Plot the FI values\n",
    "plt.plot(fi_values, label='FI')\n",
    "\n",
    "# Plot the EI values\n",
    "plt.plot(ei_values, label='EI')\n",
    "\n",
    "# Add a legend and labels\n",
    "plt.legend()\n",
    "plt.xlabel('Window')\n",
    "plt.ylabel('Value')\n",
    "\n",
    "# Show the plot\n",
    "plt.show()"
   ]
  },
  {
   "cell_type": "code",
   "execution_count": 13,
   "id": "bc6550cc",
   "metadata": {
    "execution": {
     "iopub.execute_input": "2023-06-01T08:06:48.105439Z",
     "iopub.status.busy": "2023-06-01T08:06:48.105048Z",
     "iopub.status.idle": "2023-06-01T08:06:48.118318Z",
     "shell.execute_reply": "2023-06-01T08:06:48.117232Z"
    },
    "jupyter": {
     "source_hidden": true
    },
    "papermill": {
     "duration": 0.033498,
     "end_time": "2023-06-01T08:06:48.120963",
     "exception": false,
     "start_time": "2023-06-01T08:06:48.087465",
     "status": "completed"
    },
    "tags": []
   },
   "outputs": [],
   "source": [
    "\n",
    "from scipy.signal import spectrogram\n",
    "\n",
    "def process_acceleration_data(acc, sf, win_sec, overlap_sec):\n",
    "    \"\"\"\n",
    "    Process triaxial accelerometer data.\n",
    "\n",
    "    Parameters\n",
    "    ----------\n",
    "    acc : array_like\n",
    "        2D array of triaxial acceleration data (shape: n_samples x 3).\n",
    "    sf : float\n",
    "        Sampling frequency of the data.\n",
    "    win_sec : float\n",
    "        Window length in seconds.\n",
    "    overlap_sec : float\n",
    "        Overlap between windows in seconds.\n",
    "\n",
    "    Returns\n",
    "    -------\n",
    "    f : array_like\n",
    "        Array of sample frequencies.\n",
    "    t : array_like\n",
    "        Array of segment times.\n",
    "    Sxx : array_like\n",
    "        Spectrogram of the data (shape: n_windows x n_freqs x 3).\n",
    "    \"\"\"\n",
    "    # Calculate the window and overlap size in samples\n",
    "    win_size = int(win_sec * sf)\n",
    "    overlap_size = int(overlap_sec * sf)\n",
    "\n",
    "    # Calculate the spectrogram for the first axis to get the size of the output arrays\n",
    "    f, t, Sxx = spectrogram(acc[:, 0], sf, window='hann', nperseg=win_size,\n",
    "                            noverlap=overlap_size)\n",
    "\n",
    "    # Initialize an array to store the spectrogram for each axis\n",
    "    Sxx = np.zeros((3, len(f), len(t)))\n",
    "\n",
    "    # Loop over each axis\n",
    "    for i in range(3):\n",
    "        # Calculate the spectrogram for this axis\n",
    "        f, t, Sxx[i] = spectrogram(acc[:, i], sf, window='hann', nperseg=win_size,\n",
    "                                   noverlap=overlap_size)\n",
    "\n",
    "    # Transpose the spectrogram to have shape (n_windows x n_freqs x 3)\n",
    "    Sxx = Sxx.transpose((2, 1, 0))\n",
    "\n",
    "    return f, t, Sxx\n",
    "\n",
    "# Example usage\n",
    "sf = 100  # Sampling frequency\n",
    "win_sec = 2  # Window length in seconds\n",
    "overlap_sec = 1  # Overlap between windows in seconds\n",
    "\n",
    "# Generate some random triaxial acceleration data\n",
    "n_samples = sf * 10  # Number of samples\n",
    "acc = np.random.randn(n_samples, 3)  # Random triaxial acceleration data\n",
    "\n",
    "# Process the acceleration data\n",
    "f, t, Sxx = process_acceleration_data(acc, sf, win_sec, overlap_sec)"
   ]
  },
  {
   "cell_type": "code",
   "execution_count": 14,
   "id": "a387a429",
   "metadata": {
    "execution": {
     "iopub.execute_input": "2023-06-01T08:06:48.154536Z",
     "iopub.status.busy": "2023-06-01T08:06:48.154142Z",
     "iopub.status.idle": "2023-06-01T08:06:48.173626Z",
     "shell.execute_reply": "2023-06-01T08:06:48.172336Z"
    },
    "papermill": {
     "duration": 0.039641,
     "end_time": "2023-06-01T08:06:48.176587",
     "exception": false,
     "start_time": "2023-06-01T08:06:48.136946",
     "status": "completed"
    },
    "tags": []
   },
   "outputs": [],
   "source": [
    "# Load the events.csv data into a Pandas DataFrame\n",
    "events = pd.read_csv(BASE_PATH + 'events.csv')\n",
    "\n",
    "# Define a function to extract ground truth annotations for a given data series\n",
    "def get_ground_truth(series_id, events):\n",
    "    # Extract all FOG events that occurred in the given data series\n",
    "    series_events = events[events['Id'] == series_id]\n",
    "    \n",
    "    # Initialize an empty list to store the ground truth annotations\n",
    "    ground_truth = []\n",
    "    \n",
    "    # Iterate over each FOG event in the series\n",
    "    for _, event in series_events.iterrows():\n",
    "        # Extract the start and end times of the FOG episode\n",
    "        start_time = event['Init']\n",
    "        end_time = event['Completion']\n",
    "        \n",
    "        # Append the start and end times to the ground truth list\n",
    "        ground_truth.append((start_time, end_time))\n",
    "    \n",
    "    # Return the ground truth annotations for the given data series\n",
    "    return ground_truth\n",
    "\n",
    "# Example usage: Extract ground truth annotations for a data series with an Id of '003f117e14'\n",
    "series_id = '003f117e14'\n",
    "ground_truth = get_ground_truth(series_id, events)"
   ]
  },
  {
   "cell_type": "code",
   "execution_count": 15,
   "id": "93fc3e9a",
   "metadata": {
    "execution": {
     "iopub.execute_input": "2023-06-01T08:06:48.211024Z",
     "iopub.status.busy": "2023-06-01T08:06:48.210555Z",
     "iopub.status.idle": "2023-06-01T08:06:48.216480Z",
     "shell.execute_reply": "2023-06-01T08:06:48.215193Z"
    },
    "papermill": {
     "duration": 0.025761,
     "end_time": "2023-06-01T08:06:48.219046",
     "exception": false,
     "start_time": "2023-06-01T08:06:48.193285",
     "status": "completed"
    },
    "tags": []
   },
   "outputs": [],
   "source": [
    "# from sklearn.model_selection import train_test_split\n",
    "# from sklearn.ensemble import RandomForestClassifier\n",
    "\n",
    "# # Define the ground truth\n",
    "# y = ground_truth  # Ground truth values indicating whether each window contains a FOG event\n",
    "\n",
    "# y = np.array(y)\n",
    "# n = y.shape[0]\n",
    "# indices = np.arange(n)\n",
    "# fi_values = fi_values[indices]\n",
    "\n",
    "# # Split the data into training and test sets\n",
    "# X_train, X_test, y_train, y_test = train_test_split(fi_values.reshape(-1, 1), y, test_size=0.2)\n",
    "\n",
    "# # Create a random forest classifier\n",
    "# clf = RandomForestClassifier()\n",
    "\n",
    "# # Train the classifier on the training data\n",
    "# clf.fit(X_train, y_train)\n",
    "\n",
    "# # Predict the class labels for the test data\n",
    "# y_pred = clf.predict(X_test)"
   ]
  },
  {
   "cell_type": "markdown",
   "id": "31a90213",
   "metadata": {
    "_kg_hide-input": true,
    "papermill": {
     "duration": 0.015588,
     "end_time": "2023-06-01T08:06:48.251215",
     "exception": false,
     "start_time": "2023-06-01T08:06:48.235627",
     "status": "completed"
    },
    "tags": []
   },
   "source": [
    "The `window` parameter of the `spectrogram` function specifies the type of window function to use when calculating the short-time Fourier transform (STFT) of the data. A window function is applied to each segment of data before calculating its Fourier transform to reduce spectral leakage.\n",
    "\n",
    "In the example code I showed you earlier, the `window` parameter is set to `'hann'`, which means that a Hann window is used. The Hann window is a commonly used window function that has a bell shape and goes to zero at both ends. It is defined as:\n",
    "\n",
    "```python\n",
    "w = 0.5 * (1 - np.cos(2 * np.pi * n / (M - 1)))\n",
    "```\n",
    "\n",
    "where `n` is an array of sample indices and `M` is the length of the window.\n",
    "\n",
    "You can choose from several different window functions when calculating the spectrogram of your data. Each window function has its own characteristics and trade-offs, so the best choice will depend on your specific needs and goals.\n"
   ]
  },
  {
   "cell_type": "markdown",
   "id": "f1c8bd05",
   "metadata": {
    "_kg_hide-input": true,
    "papermill": {
     "duration": 0.015482,
     "end_time": "2023-06-01T08:06:48.282723",
     "exception": false,
     "start_time": "2023-06-01T08:06:48.267241",
     "status": "completed"
    },
    "tags": []
   },
   "source": [
    "This code defines a function called process_acceleration_data that takes as input a 2D array of triaxial acceleration data (shape: n_samples x 3), the sampling frequency of the data, the window length in seconds, and the overlap between windows in seconds.\n",
    "\n",
    "The function calculates the spectrogram of each axis of the acceleration data using the spectrogram function from scipy.signal. This function calculates the power spectral density of the data using short-time Fourier transform (STFT) with a specified window length and overlap. The function returns an array containing the sample frequencies (f), segment times (t), and spectrogram (Sxx) of the data.\n",
    "\n",
    "You can use this function to process your own triaxial acceleration data by calling it with your data and specifying the sampling frequency, window length, and overlap. The resulting spectrogram will have shape (n_windows x n_freqs x 3), where n_windows is the number of windows in the data and n_freqs is the number of frequencies returned by the STFT."
   ]
  },
  {
   "cell_type": "code",
   "execution_count": 16,
   "id": "925cc622",
   "metadata": {
    "execution": {
     "iopub.execute_input": "2023-06-01T08:06:48.316447Z",
     "iopub.status.busy": "2023-06-01T08:06:48.316012Z",
     "iopub.status.idle": "2023-06-01T08:06:48.323253Z",
     "shell.execute_reply": "2023-06-01T08:06:48.322190Z"
    },
    "papermill": {
     "duration": 0.026976,
     "end_time": "2023-06-01T08:06:48.325732",
     "exception": false,
     "start_time": "2023-06-01T08:06:48.298756",
     "status": "completed"
    },
    "tags": []
   },
   "outputs": [],
   "source": [
    "# import numpy as np\n",
    "# from scipy.signal import spectrogram\n",
    "\n",
    "# def process_acceleration_data(acc, sf, win_sec, overlap_sec):\n",
    "#     \"\"\"\n",
    "#     Process triaxial accelerometer data.\n",
    "\n",
    "#     Parameters\n",
    "#     ----------\n",
    "#     acc : array_like\n",
    "#         2D array of triaxial acceleration data (shape: n_samples x 3).\n",
    "#     sf : float\n",
    "#         Sampling frequency of the data.\n",
    "#     win_sec : float\n",
    "#         Window length in seconds.\n",
    "#     overlap_sec : float\n",
    "#         Overlap between windows in seconds.\n",
    "\n",
    "#     Returns\n",
    "#     -------\n",
    "#     f : array_like\n",
    "#         Array of sample frequencies.\n",
    "#     t : array_like\n",
    "#         Array of segment times.\n",
    "#     Sxx : array_like\n",
    "#         Spectrogram of the data (shape: n_windows x n_freqs x 3).\n",
    "#     \"\"\"\n",
    "#     # Calculate the window and overlap size in samples\n",
    "#     win_size = int(win_sec * sf)\n",
    "#     overlap_size = int(overlap_sec * sf)\n",
    "\n",
    "#     # Calculate the spectrogram for the first axis to get the size of the output arrays\n",
    "#     f, t, Sxx = spectrogram(acc[:, 0], sf, window='hann', nperseg=win_size,\n",
    "#                             noverlap=overlap_size)\n",
    "\n",
    "#     # Initialize an array to store the spectrogram for each axis\n",
    "#     Sxx = np.zeros((3, len(f), len(t)))\n",
    "\n",
    "#     # Loop over each axis\n",
    "#     for i in range(3):\n",
    "#         # Calculate the spectrogram for this axis\n",
    "#         f, t, Sxx[i] = spectrogram(acc[:, i], sf, window='hann', nperseg=win_size,\n",
    "#                                    noverlap=overlap_size)\n",
    "\n",
    "#     # Transpose the spectrogram to have shape (n_windows x n_freqs x 3)\n",
    "#     Sxx = Sxx.transpose((2, 1, 0))\n",
    "\n",
    "#     return f, t, Sxx\n",
    "\n",
    "# # Example usage\n",
    "# sf = 100  # Sampling frequency\n",
    "# win_sec = 2  # Window length in seconds\n",
    "# overlap_sec = 1  # Overlap between windows in seconds\n",
    "\n",
    "# # Generate some random triaxial acceleration data\n",
    "# n_samples = sf * 10  # Number of samples\n",
    "# acc = np.random.randn(n_samples, 3)  # Random triaxial acceleration data\n",
    "\n",
    "# # Process the acceleration data\n",
    "# f, t, Sxx = process_acceleration_data(acc, sf, win_sec, overlap_sec)"
   ]
  },
  {
   "cell_type": "code",
   "execution_count": 17,
   "id": "34dde0f8",
   "metadata": {
    "collapsed": true,
    "execution": {
     "iopub.execute_input": "2023-06-01T08:06:48.359268Z",
     "iopub.status.busy": "2023-06-01T08:06:48.358746Z",
     "iopub.status.idle": "2023-06-01T08:06:48.364183Z",
     "shell.execute_reply": "2023-06-01T08:06:48.362928Z"
    },
    "jupyter": {
     "outputs_hidden": true
    },
    "papermill": {
     "duration": 0.02526,
     "end_time": "2023-06-01T08:06:48.366802",
     "exception": false,
     "start_time": "2023-06-01T08:06:48.341542",
     "status": "completed"
    },
    "tags": []
   },
   "outputs": [],
   "source": [
    "# # Add an extra element to the X and Y arrays\n",
    "# t = np.append(t, t[-1] + (t[1] - t[0]))\n",
    "# f = np.append(f, f[-1] + (f[1] - f[0]))\n",
    "\n",
    "# # Plot the spectrogram for each axis\n",
    "# fig, axs = plt.subplots(3, 1, sharex=True, sharey=True)\n",
    "# for i in range(3):\n",
    "#     axs[i].pcolormesh(t, f, Sxx[:, :, i], shading='gouraud')\n",
    "#     axs[i].set_ylabel(f'Axis {i+1}')\n",
    "\n",
    "# axs[0].set_title('Spectrogram')\n",
    "# axs[-1].set_xlabel('Time (s)')\n",
    "# axs[-1].set_ylabel('Frequency (Hz)')\n",
    "\n",
    "# plt.show()"
   ]
  },
  {
   "cell_type": "code",
   "execution_count": 18,
   "id": "4b52ae07",
   "metadata": {
    "collapsed": true,
    "execution": {
     "iopub.execute_input": "2023-06-01T08:06:48.400990Z",
     "iopub.status.busy": "2023-06-01T08:06:48.400563Z",
     "iopub.status.idle": "2023-06-01T08:06:48.406058Z",
     "shell.execute_reply": "2023-06-01T08:06:48.404902Z"
    },
    "jupyter": {
     "outputs_hidden": true
    },
    "papermill": {
     "duration": 0.025551,
     "end_time": "2023-06-01T08:06:48.408817",
     "exception": false,
     "start_time": "2023-06-01T08:06:48.383266",
     "status": "completed"
    },
    "tags": []
   },
   "outputs": [],
   "source": [
    "# import numpy as np\n",
    "# import matplotlib.pyplot as plt\n",
    "\n",
    "# # Define the sampling frequency, window length, and overlap\n",
    "# sf = 100  # Hz\n",
    "# win_sec = 2  # seconds\n",
    "# overlap_sec = 1  # seconds\n",
    "\n",
    "# # Generate some random triaxial acceleration data\n",
    "# n_samples = sf * 10  # Number of samples\n",
    "# acc = np.random.randn(n_samples, 3)  # Random triaxial acceleration data\n",
    "\n",
    "# # Process the acceleration data\n",
    "# f, t, Sxx = process_acceleration_data(acc, sf, win_sec, overlap_sec)\n",
    "\n",
    "# # Plot the spectrogram for each axis\n",
    "# fig, axs = plt.subplots(3, 1, sharex=True, sharey=True)\n",
    "# for i in range(3):\n",
    "#     axs[i].pcolormesh(t, f, Sxx[:, :, i], shading='gouraud')\n",
    "#     axs[i].set_ylabel(f'Axis {i+1}')\n",
    "\n",
    "# axs[0].set_title('Spectrogram')\n",
    "# axs[-1].set_xlabel('Time (s)')\n",
    "# axs[-1].set_ylabel('Frequency (Hz)')\n",
    "\n",
    "# plt.show()"
   ]
  },
  {
   "cell_type": "code",
   "execution_count": null,
   "id": "b8fbf271",
   "metadata": {
    "papermill": {
     "duration": 0.015348,
     "end_time": "2023-06-01T08:06:48.440762",
     "exception": false,
     "start_time": "2023-06-01T08:06:48.425414",
     "status": "completed"
    },
    "tags": []
   },
   "outputs": [],
   "source": []
  }
 ],
 "metadata": {
  "kernelspec": {
   "display_name": "Python 3",
   "language": "python",
   "name": "python3"
  },
  "language_info": {
   "codemirror_mode": {
    "name": "ipython",
    "version": 3
   },
   "file_extension": ".py",
   "mimetype": "text/x-python",
   "name": "python",
   "nbconvert_exporter": "python",
   "pygments_lexer": "ipython3",
   "version": "3.10.10"
  },
  "papermill": {
   "default_parameters": {},
   "duration": 89.235866,
   "end_time": "2023-06-01T08:06:50.081829",
   "environment_variables": {},
   "exception": null,
   "input_path": "__notebook__.ipynb",
   "output_path": "__notebook__.ipynb",
   "parameters": {},
   "start_time": "2023-06-01T08:05:20.845963",
   "version": "2.4.0"
  }
 },
 "nbformat": 4,
 "nbformat_minor": 5
}
