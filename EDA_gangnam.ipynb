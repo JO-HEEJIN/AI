{
  "nbformat": 4,
  "nbformat_minor": 0,
  "metadata": {
    "colab": {
      "private_outputs": true,
      "provenance": [],
      "authorship_tag": "ABX9TyOBkHBoQALTAYUHMaOUtk5Y",
      "include_colab_link": true
    },
    "kernelspec": {
      "name": "python3",
      "display_name": "Python 3"
    },
    "language_info": {
      "name": "python"
    }
  },
  "cells": [
    {
      "cell_type": "markdown",
      "metadata": {
        "id": "view-in-github",
        "colab_type": "text"
      },
      "source": [
        "<a href=\"https://colab.research.google.com/github/Midmost/AI/blob/master/EDA_gangnam.ipynb\" target=\"_parent\"><img src=\"https://colab.research.google.com/assets/colab-badge.svg\" alt=\"Open In Colab\"/></a>"
      ]
    },
    {
      "cell_type": "markdown",
      "source": [
        "# Dependencies"
      ],
      "metadata": {
        "id": "O9SjxY_yObm2"
      }
    },
    {
      "cell_type": "code",
      "execution_count": null,
      "metadata": {
        "id": "bZQi-h5Q7xXA"
      },
      "outputs": [],
      "source": [
        "from google.colab import drive\n",
        "drive.mount('/content/drive')\n",
        "\n",
        "!pip install --upgrade pandas"
      ]
    },
    {
      "cell_type": "markdown",
      "source": [
        "## Basic information"
      ],
      "metadata": {
        "id": "sqFOB-F3Okjy"
      }
    },
    {
      "cell_type": "code",
      "source": [
        "import pandas as pd\n",
        "import numpy as np\n",
        "from pandas.io.formats.info import DataFrameInfo\n",
        "\n",
        "# excel path\n",
        "xlsx_file_path = \"/content/drive/MyDrive/DATA/pdf2xlsx/editXL/X_series/X_강남구_예산서.xlsx\"\n",
        "\n",
        "# pure excel to pure dataframe and information with a visual-table\n",
        "df = pd.read_excel(xlsx_file_path)\n",
        "DataFrameInfo\n",
        "df"
      ],
      "metadata": {
        "id": "70UL7ZPjgpE_"
      },
      "execution_count": null,
      "outputs": []
    },
    {
      "cell_type": "code",
      "source": [
        "# drop the 0,1,2 rows because of starting page\n",
        "df = pd.read_excel(xlsx_file_path, header = None)\n",
        "\n",
        "# gu var\n",
        "gu_path = xlsx_file_path.split('_')\n",
        "gu_name = gu_path[2]\n",
        "\n",
        "# Add a new column to the first index of the dataframe\n",
        "df.insert(0, '구', gu_name)\n",
        "header_all = \"구,부서,정책,단위,세부사업,편성목,편성운영비,편성세부운영비,편성세부내역비용,예산액,전년도예산액,비교증감\"\n",
        "header = header_all.split(\",\")\n",
        "df.columns = header"
      ],
      "metadata": {
        "id": "DMLlGP4BGOAJ"
      },
      "execution_count": null,
      "outputs": []
    },
    {
      "cell_type": "markdown",
      "source": [
        "* ***하지만 만약 xlsx 파일 혹은 pdf 파일을 확인하고 내용이 다르다면 그에 맞춰 header를 수정해야 할 수 있음*** \n",
        "\n",
        "* 헤더의 명칭은 각 구의 계층구조에 정확히 맞춰서 수정하였음. "
      ],
      "metadata": {
        "id": "RbvsIO6EPiNh"
      }
    },
    {
      "cell_type": "code",
      "source": [
        "# columns_to_fill = header[:5] 이지만 혹시나 헤더명이 변경될 수 있으므로 아래와 같이 사용한다. \n",
        "columns_to_fill = ['부서', '정책', '단위', '세부사업', '편성목', '편성운영비']\n",
        "\n",
        "for col in columns_to_fill:\n",
        "    df[col] = df[col].fillna(method='ffill')\n",
        "\n",
        "# 데이터목수 대표님이 주신 양식에 맞추기 \n",
        "df['편성세부운영비'] = df['편성세부운영비'].astype(str).replace('nan', '')\n",
        "df['편성세부내역비용'] = df['편성세부내역비용'].astype(str).replace('nan', '')\n",
        "df['편성세부운영비'] = df['편성세부운영비'] + df['편성세부내역비용']\n",
        "df['편성세부운영비']\n",
        "df = df.drop(columns=['편성세부내역비용'])\n",
        "df"
      ],
      "metadata": {
        "id": "jZ1LfgmcLyS-"
      },
      "execution_count": null,
      "outputs": []
    },
    {
      "cell_type": "code",
      "source": [
        "\n",
        "# # TEST '01'일 때만 확인해보기 \n",
        "\n",
        "\n",
        "# # all values of column index 6 should be changed to broadcasting_expenses,\n",
        "# # 편성운영비 == briadcasting_expenses\n",
        "# # 1. if b_e is in the index 7 column, extract each value and save in the new column \n",
        "# briadcasting_expenses =  [\"{:02d}\".format(i) for i in range(1, 100)]\n",
        "# b_e = briadcasting_expenses\n",
        "\n",
        "# type(b_e) #str ['01','02','03',...'99']\n",
        "\n",
        "# # Create a boolean mask to identify rows where the value in the '편성세부운영비' column starts with '01'\n",
        "# mask = df['편성세부운영비'].str.startswith('01')\n",
        "\n",
        "# # Use the mask to set the values in the '편성운영비' column\n",
        "# df.loc[mask, '편성운영비'] = df.loc[mask, '편성세부운영비']\n",
        "\n",
        "# # df = df[df['편성운영비'] != '본예산']\n",
        "# df"
      ],
      "metadata": {
        "id": "TIz1to7p9r2a"
      },
      "execution_count": null,
      "outputs": []
    },
    {
      "cell_type": "code",
      "source": [
        "# Create a list of values to check\n",
        "values = [\"{:02d}\".format(i) for i in range(1, 11)]\n",
        "\n",
        "# Create a boolean mask to identify rows where the value in the '편성세부운영비' column starts with any value in the list\n",
        "mask = df['편성세부운영비'].str.startswith(tuple(values))\n",
        "\n",
        "# Use the mask to set the values in the '편성운영비' column\n",
        "df.loc[mask, '편성운영비'] = df.loc[mask, '편성세부운영비']\n",
        "\n",
        "# Input Null all rows in the '편성운영비' column where the value is '본예산'\n",
        "# Set all rows in the '편성운영비' column where the value is '본예산' to NaN\n",
        "df.loc[df['편성운영비'] == '본예산', '편성운영비'] = np.nan\n",
        "\n",
        "# Create a boolean mask to identify rows where the value in the '편성세부운영비' column contains any value in the list\n",
        "mask = df['편성세부운영비'].str.contains('|'.join(values))\n",
        "\n",
        "# Use the mask to set the values in those rows to NaN\n",
        "df.loc[mask, '편성세부운영비'] = np.nan\n",
        "\n",
        "df"
      ],
      "metadata": {
        "id": "XnulSFfLfUKw"
      },
      "execution_count": null,
      "outputs": []
    },
    {
      "cell_type": "code",
      "source": [],
      "metadata": {
        "id": "5DnLm5Z6jb4X"
      },
      "execution_count": null,
      "outputs": []
    },
    {
      "cell_type": "code",
      "source": [
        "mask"
      ],
      "metadata": {
        "id": "pExTo-VfgSI3"
      },
      "execution_count": null,
      "outputs": []
    },
    {
      "cell_type": "code",
      "source": [
        "# Export the DataFrame to an Excel file\n",
        "df.to_excel('output_gangnam.xlsx', index=False)"
      ],
      "metadata": {
        "id": "YdW3oJJBwP4B"
      },
      "execution_count": null,
      "outputs": []
    },
    {
      "cell_type": "code",
      "source": [],
      "metadata": {
        "id": "SLBGQPbXJWsR"
      },
      "execution_count": null,
      "outputs": []
    }
  ]
}